{
 "cells": [
  {
   "cell_type": "code",
   "execution_count": 1,
   "metadata": {},
   "outputs": [],
   "source": [
    "import numpy as np\n",
    "import pandas as pd\n",
    "from collections import OrderedDict\n",
    "import torch\n",
    "import torch.nn.functional as F\n",
    "from torch import nn\n",
    "from torch.nn.parameter import Parameter\n",
    "from torch.autograd import Variable\n",
    "%matplotlib inline\n",
    "import matplotlib.pyplot as plt"
   ]
  },
  {
   "cell_type": "code",
   "execution_count": 2,
   "metadata": {},
   "outputs": [],
   "source": [
    "# Pre-processing of dataset\n",
    "df=pd.read_csv('digit-recognizer/train.csv')\n",
    "df=df.sample(frac=1)\n",
    "val_data = df[:4200]      # 10% of dataset\n",
    "train_data = df[4200:]    # 90% of dataset\n",
    "train_target = torch.tensor(train_data['label'].values.astype(np.float32))\n",
    "train = torch.tensor(train_data.drop('label', axis = 1).values.astype(np.float32)) \n",
    "val_target = torch.tensor(val_data['label'].values.astype(np.float32))\n",
    "val = torch.tensor(val_data.drop('label', axis = 1).values.astype(np.float32)) \n",
    "train=train.view(-1,1,28,28)\n",
    "val=val.view(-1,1,28,28)\n",
    "train_tensor = torch.utils.data.TensorDataset(train, train_target) \n",
    "train_loader = torch.utils.data.DataLoader(dataset = train_tensor, batch_size = 128, shuffle = True)\n",
    "val_tensor = torch.utils.data.TensorDataset(val, val_target) \n",
    "val_loader = torch.utils.data.DataLoader(dataset = val_tensor, batch_size = 128, shuffle = True)\n",
    "\n",
    "data_loaders = {\"train\": train_loader, \"val\": val_loader}"
   ]
  },
  {
   "cell_type": "code",
   "execution_count": 3,
   "metadata": {},
   "outputs": [],
   "source": [
    "class linear(nn.Module):\n",
    "    \"\"\" \n",
    "        Linear activation function\n",
    "        \n",
    "        Range: (-∞,∞)\n",
    "    \"\"\"\n",
    "    def __init__(self,input_features,slope=None):\n",
    "        \"\"\"\n",
    "        Parameters:\n",
    "                    input_features - input features\n",
    "                    slope - trainable parameter\n",
    "        \"\"\"\n",
    "        super(linear,self).__init__()\n",
    "        self.input_features=input_features\n",
    "        if slope==None:\n",
    "            self.slope=Parameter(torch.tensor(1.0))\n",
    "        else:\n",
    "            self.slope=Parameter(torch.tensor(slope))        \n",
    "        self.slope.requiresGrad = True \n",
    "        \n",
    "    def forward(self, x):\n",
    "        \"\"\"\n",
    "        Parameters: \n",
    "            x: Input tensor\n",
    "\n",
    "        Returns: \n",
    "            y: Output tensor given by f(x)= slope.x\n",
    "        \"\"\"\n",
    "        y = x*self.slope\n",
    "        return y"
   ]
  },
  {
   "cell_type": "code",
   "execution_count": 4,
   "metadata": {},
   "outputs": [
    {
     "name": "stdout",
     "output_type": "stream",
     "text": [
      "Linear activation function with slope 1.00\n"
     ]
    },
    {
     "data": {
      "text/plain": [
       "[<matplotlib.lines.Line2D at 0x7f984fbf1c10>]"
      ]
     },
     "execution_count": 4,
     "metadata": {},
     "output_type": "execute_result"
    },
    {
     "data": {
      "image/png": "[encoded data removed]",
      "text/plain": [
       "<Figure size 432x288 with 1 Axes>"
      ]
     },
     "metadata": {
      "needs_background": "light"
     },
     "output_type": "display_data"
    }
   ],
   "source": [
    "print(\"Linear activation function with slope 1.00\")\n",
    "x=torch.sort(torch.randn(100)).values\n",
    "activation=linear(100)\n",
    "y=activation(x)\n",
    "plt.plot(x.numpy(),y.detach().numpy())"
   ]
  },
  {
   "cell_type": "code",
   "execution_count": 5,
   "metadata": {},
   "outputs": [],
   "source": [
    "class sigmoid(nn.Module):\n",
    "    \"\"\" \n",
    "            Sigmoid activation function\n",
    "\n",
    "            Range: (0,1)\n",
    "            \n",
    "            Drawbacks:\n",
    "            1. Sigmoids saturate and kill gradients\n",
    "            2. Sigmoid outputs are not zero-centered.\n",
    "    \"\"\"\n",
    "    def __init__(self):\n",
    "        super().__init__()\n",
    "        \n",
    "    def forward(self, x):\n",
    "        \"\"\"\n",
    "        Parameters: \n",
    "                x: Input tensor\n",
    "\n",
    "        Returns: \n",
    "                y: Output tensor given by f(x) = 1/(1+exp(-x))\n",
    "        \"\"\"\n",
    "        y=1/(1+torch.exp((-1)*x))\n",
    "        return y"
   ]
  },
  {
   "cell_type": "code",
   "execution_count": 6,
   "metadata": {},
   "outputs": [
    {
     "name": "stdout",
     "output_type": "stream",
     "text": [
      "Sigmoid activation function\n"
     ]
    },
    {
     "data": {
      "text/plain": [
       "[<matplotlib.lines.Line2D at 0x7f984fd28890>]"
      ]
     },
     "execution_count": 6,
     "metadata": {},
     "output_type": "execute_result"
    },
    {
     "data": {
      "image/png": "[encoded data removed]",
      "text/plain": [
       "<Figure size 432x288 with 1 Axes>"
      ]
     },
     "metadata": {
      "needs_background": "light"
     },
     "output_type": "display_data"
    }
   ],
   "source": [
    "print(\"Sigmoid activation function\")\n",
    "x=torch.sort(torch.randn(10000)).values\n",
    "activation=sigmoid()\n",
    "y=activation(x)\n",
    "plt.plot(x.numpy(),y.numpy())"
   ]
  },
  {
   "cell_type": "code",
   "execution_count": 7,
   "metadata": {},
   "outputs": [],
   "source": [
    "class relu(nn.Module):\n",
    "    \"\"\" \n",
    "            ReLU activation function\n",
    "\n",
    "            Range: (0,∞)\n",
    "    \"\"\"\n",
    "    def __init__(self):\n",
    "        super().__init__()\n",
    "        \n",
    "    def forward(self, x):\n",
    "        \"\"\"\n",
    "        Parameters: \n",
    "                x: Input tensor\n",
    "\n",
    "        Returns: \n",
    "                y: Output tensor given by f(x) = max(0,x)\n",
    "        \"\"\"\n",
    "        y=torch.clamp(x,0)\n",
    "        return y"
   ]
  },
  {
   "cell_type": "code",
   "execution_count": 8,
   "metadata": {},
   "outputs": [
    {
     "name": "stdout",
     "output_type": "stream",
     "text": [
      "ReLU activation function\n"
     ]
    },
    {
     "data": {
      "text/plain": [
       "[<matplotlib.lines.Line2D at 0x7f984fc1a450>]"
      ]
     },
     "execution_count": 8,
     "metadata": {},
     "output_type": "execute_result"
    },
    {
     "data": {
      "image/png": "[encoded data removed]",
      "text/plain": [
       "<Figure size 432x288 with 1 Axes>"
      ]
     },
     "metadata": {
      "needs_background": "light"
     },
     "output_type": "display_data"
    }
   ],
   "source": [
    "print(\"ReLU activation function\")\n",
    "x=torch.sort(torch.randn(10000)).values\n",
    "activation=relu()\n",
    "y=activation(x)\n",
    "plt.plot(x.numpy(),y.numpy())"
   ]
  },
  {
   "cell_type": "code",
   "execution_count": 9,
   "metadata": {},
   "outputs": [],
   "source": [
    "class leaky_relu(nn.Module):\n",
    "    \"\"\" \n",
    "           Leaky ReLU activation function\n",
    "\n",
    "           Range: (-∞,∞)\n",
    "            \n",
    "           Advantage:\n",
    "                Prevents the problem of dying neurons in ReLU due to fragile gradients\n",
    "    \"\"\"\n",
    "    def __init__(self,alpha=0.01):\n",
    "        \"\"\"\n",
    "        Parameters:\n",
    "            input_features - input features\n",
    "            alpha - constant parameter\n",
    "          \n",
    "        Returns: \n",
    "            y: Output tensor given by f(x)= slope.x\n",
    "        \"\"\"\n",
    "        super().__init__()\n",
    "        self.alpha=alpha\n",
    "        \n",
    "    def forward(self, x):\n",
    "        \"\"\"\n",
    "        Parameters: \n",
    "                x: Input tensor\n",
    "\n",
    "        Returns: \n",
    "                y: Output tensor\n",
    "        \"\"\"\n",
    "        positive_indices=torch.where(x>=0)\n",
    "        negative_indices=torch.where(x<0)\n",
    "        y[positive_indices]=x[positive_indices]\n",
    "        y[negative_indices]=x[negative_indices]*self.alpha\n",
    "        return y"
   ]
  },
  {
   "cell_type": "code",
   "execution_count": 10,
   "metadata": {},
   "outputs": [
    {
     "name": "stdout",
     "output_type": "stream",
     "text": [
      "Leaky ReLU activation function with alpha(negative-slope) 0.03\n"
     ]
    },
    {
     "data": {
      "text/plain": [
       "[<matplotlib.lines.Line2D at 0x7f984fc5c310>]"
      ]
     },
     "execution_count": 10,
     "metadata": {},
     "output_type": "execute_result"
    },
    {
     "data": {
      "image/png": "[encoded data removed]",
      "text/plain": [
       "<Figure size 432x288 with 1 Axes>"
      ]
     },
     "metadata": {
      "needs_background": "light"
     },
     "output_type": "display_data"
    }
   ],
   "source": [
    "print(\"Leaky ReLU activation function with alpha(negative-slope) 0.03\")\n",
    "x=torch.sort(torch.randn(10000)).values\n",
    "activation=leaky_relu(alpha=0.03)\n",
    "y=activation(x)\n",
    "plt.plot(x.numpy(),y.numpy())"
   ]
  },
  {
   "cell_type": "code",
   "execution_count": 11,
   "metadata": {},
   "outputs": [],
   "source": [
    "class soft_plus(nn.Module):\n",
    "    \"\"\" \n",
    "            SoftPlus activation function\n",
    "         \n",
    "            Range: (0,∞)\n",
    "            \n",
    "            Interesting note: Derivative is equal to sigmoid function\n",
    "    \"\"\"\n",
    "    def __init__(self):\n",
    "        super().__init__()\n",
    "        \n",
    "    def forward(self, x):\n",
    "        \"\"\"\n",
    "        Parameters: \n",
    "                x: Input tensor\n",
    "\n",
    "        Returns: \n",
    "                y: Output tensor given by ln (1+exp(x))\n",
    "        \"\"\"\n",
    "        y=torch.log(1+torch.exp(x))\n",
    "        return y"
   ]
  },
  {
   "cell_type": "code",
   "execution_count": 12,
   "metadata": {},
   "outputs": [
    {
     "name": "stdout",
     "output_type": "stream",
     "text": [
      "SoftPlus activation function\n"
     ]
    },
    {
     "data": {
      "text/plain": [
       "[<matplotlib.lines.Line2D at 0x7f984fc91510>]"
      ]
     },
     "execution_count": 12,
     "metadata": {},
     "output_type": "execute_result"
    },
    {
     "data": {
      "image/png": "[encoded data removed]",
      "text/plain": [
       "<Figure size 432x288 with 1 Axes>"
      ]
     },
     "metadata": {
      "needs_background": "light"
     },
     "output_type": "display_data"
    }
   ],
   "source": [
    "print(\"SoftPlus activation function\")\n",
    "x=torch.sort(torch.randn(10000)).values\n",
    "activation=soft_plus()\n",
    "y=activation(x)\n",
    "plt.plot(x.numpy(),y.numpy())"
   ]
  },
  {
   "cell_type": "code",
   "execution_count": 13,
   "metadata": {},
   "outputs": [],
   "source": [
    "class tanh(nn.Module):\n",
    "    \"\"\" \n",
    "            Tanh activation function\n",
    "         \n",
    "            Range: (-1,1)\n",
    "            \n",
    "            Interesting note: It can be scaled to sigmoid as tanh(x)=2sigmoid(2x)-1\n",
    "    \"\"\"\n",
    "    def __init__(self):\n",
    "        super().__init__()\n",
    "        \n",
    "    def forward(self, x):\n",
    "        \"\"\"\n",
    "        Parameters: \n",
    "                x: Input tensor\n",
    "\n",
    "        Returns: \n",
    "                y: Output\n",
    "        \"\"\"\n",
    "        sigma=sigmoid()\n",
    "        y=2*sigma(2*x) - 1\n",
    "        return y"
   ]
  },
  {
   "cell_type": "code",
   "execution_count": 14,
   "metadata": {},
   "outputs": [
    {
     "name": "stdout",
     "output_type": "stream",
     "text": [
      "Tanh activation function\n"
     ]
    },
    {
     "data": {
      "text/plain": [
       "[<matplotlib.lines.Line2D at 0x7f984fb987d0>]"
      ]
     },
     "execution_count": 14,
     "metadata": {},
     "output_type": "execute_result"
    },
    {
     "data": {
      "image/png": "[encoded data removed]",
      "text/plain": [
       "<Figure size 432x288 with 1 Axes>"
      ]
     },
     "metadata": {
      "needs_background": "light"
     },
     "output_type": "display_data"
    }
   ],
   "source": [
    "print(\"Tanh activation function\")\n",
    "x=torch.sort(torch.randn(10000)).values\n",
    "activation=tanh()\n",
    "y=activation(x)\n",
    "plt.plot(x.numpy(),y.numpy())"
   ]
  },
  {
   "cell_type": "code",
   "execution_count": 15,
   "metadata": {},
   "outputs": [],
   "source": [
    "class swish(nn.Module):\n",
    "    \"\"\" \n",
    "            Swish activation function\n",
    "         \n",
    "            Range: (≈-0.278,∞)\n",
    "                \n",
    "            Interesting note: It is bounded below and unbounded above, so similar to ReLU\n",
    "      \"\"\"\n",
    "    def __init__(self):\n",
    "        super().__init__()\n",
    "        \n",
    "    def forward(self, x):\n",
    "        \"\"\"\n",
    "            Parameters: \n",
    "                x: Input tensor\n",
    "\n",
    "            Returns: \n",
    "                y: Output tensor given by f(x)= x * sigmoid(x)\n",
    "        \"\"\"\n",
    "        sigma=sigmoid()\n",
    "        y=x*sigma(x)\n",
    "        return y"
   ]
  },
  {
   "cell_type": "code",
   "execution_count": 16,
   "metadata": {},
   "outputs": [
    {
     "name": "stdout",
     "output_type": "stream",
     "text": [
      "Swish activation function\n"
     ]
    },
    {
     "data": {
      "text/plain": [
       "[<matplotlib.lines.Line2D at 0x7f984ef370d0>]"
      ]
     },
     "execution_count": 16,
     "metadata": {},
     "output_type": "execute_result"
    },
    {
     "data": {
      "image/png": "[encoded data removed]",
      "text/plain": [
       "<Figure size 432x288 with 1 Axes>"
      ]
     },
     "metadata": {
      "needs_background": "light"
     },
     "output_type": "display_data"
    }
   ],
   "source": [
    "print(\"Swish activation function\")\n",
    "x=torch.sort(torch.randn(10000)).values\n",
    "activation=swish()\n",
    "y=activation(x)\n",
    "plt.plot(x.numpy(),y.numpy())"
   ]
  },
  {
   "cell_type": "code",
   "execution_count": 17,
   "metadata": {},
   "outputs": [],
   "source": [
    "class mish(nn.Module):\n",
    "    \"\"\" \n",
    "            Mish activation function\n",
    "         \n",
    "            Range: (≈-0.31,∞)\n",
    "                \n",
    "            Interesting note: It is bounded below and unbounded above, so similar to ReLU\n",
    "      \"\"\"\n",
    "    def __init__(self):\n",
    "        super().__init__()\n",
    "        \n",
    "    def forward(self, x):\n",
    "        \"\"\"\n",
    "            Parameters: \n",
    "                x: Input tensor\n",
    "\n",
    "            Returns: \n",
    "                y: Output tensor given by f(x)= x * tanh(soft-plus(x))\n",
    "        \"\"\"\n",
    "        Tanh=tanh()\n",
    "        SoftPlus=soft_plus()\n",
    "        y=x*Tanh(SoftPlus(x))\n",
    "        return y"
   ]
  },
  {
   "cell_type": "code",
   "execution_count": 18,
   "metadata": {},
   "outputs": [
    {
     "name": "stdout",
     "output_type": "stream",
     "text": [
      "Mish activation function\n"
     ]
    },
    {
     "data": {
      "text/plain": [
       "[<matplotlib.lines.Line2D at 0x7f984ef1d6d0>]"
      ]
     },
     "execution_count": 18,
     "metadata": {},
     "output_type": "execute_result"
    },
    {
     "data": {
      "image/png": "[encoded data removed]",
      "text/plain": [
       "<Figure size 432x288 with 1 Axes>"
      ]
     },
     "metadata": {
      "needs_background": "light"
     },
     "output_type": "display_data"
    }
   ],
   "source": [
    "print(\"Mish activation function\")\n",
    "x=torch.sort(torch.randn(10000)).values\n",
    "activation=mish()\n",
    "y=activation(x)\n",
    "plt.plot(x.numpy(),y.numpy())"
   ]
  },
  {
   "cell_type": "code",
   "execution_count": 19,
   "metadata": {},
   "outputs": [],
   "source": [
    "def train_model(model,data_loaders ):\n",
    "    '''\n",
    "    Function trains the model and prints out the training log.\n",
    "    INPUT:\n",
    "        model - initialized PyTorch model ready for training\n",
    "        train_loader - PyTorch dataloader for training data\n",
    "        val_loader - PyTorch dataloader for evaluation on cross-validation data\n",
    "    '''\n",
    "    \n",
    "    loss_fn = nn.NLLLoss()\n",
    "    learning_rate = 1e-6\n",
    "    num_epochs = 5\n",
    "    optimizer = torch.optim.Adam(model.parameters(), lr=learning_rate)\n",
    "\n",
    "    for e in range(num_epochs):\n",
    "        print('Epoch {}/{}'.format(e, num_epochs - 1))\n",
    "        print('-' * 10)\n",
    "        for phase in ['train', 'val']:\n",
    "            if phase == 'train':\n",
    "                model.train(True)  # Set model to training mode\n",
    "            else:\n",
    "                model.train(False)  # Set model to evaluate mode\n",
    "            \n",
    "            running_loss = 0\n",
    "            for images, labels in data_loaders[phase]:\n",
    "                labels = labels.to(device='cpu', dtype=torch.int64)\n",
    "                log_probs = model(images)\n",
    "                loss = loss_fn(log_probs, labels)\n",
    "                if phase=='train':    \n",
    "                    optimizer.zero_grad()\n",
    "                    loss.backward()\n",
    "                    optimizer.step()\n",
    "                running_loss += loss.item()\n",
    "                if phase=='train':\n",
    "                    print(\"Training loss: \"+str(running_loss))\n",
    "                else:\n",
    "                    print(\"Validation loss: \"+str(running_loss))"
   ]
  },
  {
   "cell_type": "code",
   "execution_count": 27,
   "metadata": {},
   "outputs": [],
   "source": [
    "class CNNClassifier(nn.Module):\n",
    "    '''\n",
    "    A classifier based on CNN architecture\n",
    "    '''\n",
    "    def __init__(self,activation):\n",
    "        super().__init__()\n",
    "        self.block1 = nn.Sequential(\n",
    "            nn.Conv2d(1, 16, kernel_size=5, padding=2),\n",
    "            activation,\n",
    "            nn.MaxPool2d(2))\n",
    " \n",
    "        self.block2 = nn.Sequential(\n",
    "            nn.Conv2d(16, 32, kernel_size=5, padding=2),\n",
    "            activation,\n",
    "            nn.MaxPool2d(2))\n",
    "    \n",
    "        self.fc = nn.Linear(7*7*32, 10)\n",
    " \n",
    "    def forward(self, x):\n",
    "        \n",
    "        out = self.block1(x)\n",
    "\n",
    "        out = self.block2(out)\n",
    "        \n",
    "        # Flatten the output of block2\n",
    "        out = out.view(out.size(0), -1)\n",
    "        \n",
    "        out = self.fc(out)\n",
    "        \n",
    "        return out"
   ]
  },
  {
   "cell_type": "code",
   "execution_count": 28,
   "metadata": {},
   "outputs": [
    {
     "ename": "AttributeError",
     "evalue": "module 'torch.nn' has no attribute 'relu'",
     "output_type": "error",
     "traceback": [
      "\u001b[0;31m---------------------------------------------------------------------------\u001b[0m",
      "\u001b[0;31mAttributeError\u001b[0m                            Traceback (most recent call last)",
      "\u001b[0;32m<ipython-input-28-82aebe2590f7>\u001b[0m in \u001b[0;36m<module>\u001b[0;34m\u001b[0m\n\u001b[1;32m      1\u001b[0m \u001b[0;31m#activation_function = torch.nn.functional.relu()\u001b[0m\u001b[0;34m\u001b[0m\u001b[0;34m\u001b[0m\u001b[0;34m\u001b[0m\u001b[0m\n\u001b[0;32m----> 2\u001b[0;31m \u001b[0mmodel\u001b[0m \u001b[0;34m=\u001b[0m \u001b[0mCNNClassifier\u001b[0m\u001b[0;34m(\u001b[0m\u001b[0;34m)\u001b[0m\u001b[0;34m\u001b[0m\u001b[0;34m\u001b[0m\u001b[0m\n\u001b[0m\u001b[1;32m      3\u001b[0m \u001b[0mtrain_model\u001b[0m\u001b[0;34m(\u001b[0m\u001b[0mmodel\u001b[0m\u001b[0;34m,\u001b[0m\u001b[0mdata_loaders\u001b[0m\u001b[0;34m)\u001b[0m\u001b[0;34m\u001b[0m\u001b[0;34m\u001b[0m\u001b[0m\n",
      "\u001b[0;32m<ipython-input-27-d328b3e0d49e>\u001b[0m in \u001b[0;36m__init__\u001b[0;34m(self)\u001b[0m\n\u001b[1;32m      7\u001b[0m         self.block1 = nn.Sequential(\n\u001b[1;32m      8\u001b[0m             \u001b[0mnn\u001b[0m\u001b[0;34m.\u001b[0m\u001b[0mConv2d\u001b[0m\u001b[0;34m(\u001b[0m\u001b[0;36m1\u001b[0m\u001b[0;34m,\u001b[0m \u001b[0;36m16\u001b[0m\u001b[0;34m,\u001b[0m \u001b[0mkernel_size\u001b[0m\u001b[0;34m=\u001b[0m\u001b[0;36m5\u001b[0m\u001b[0;34m,\u001b[0m \u001b[0mpadding\u001b[0m\u001b[0;34m=\u001b[0m\u001b[0;36m2\u001b[0m\u001b[0;34m)\u001b[0m\u001b[0;34m,\u001b[0m\u001b[0;34m\u001b[0m\u001b[0;34m\u001b[0m\u001b[0m\n\u001b[0;32m----> 9\u001b[0;31m             \u001b[0mtorch\u001b[0m\u001b[0;34m.\u001b[0m\u001b[0mnn\u001b[0m\u001b[0;34m.\u001b[0m\u001b[0mrelu\u001b[0m\u001b[0;34m(\u001b[0m\u001b[0;34m)\u001b[0m\u001b[0;34m,\u001b[0m\u001b[0;34m\u001b[0m\u001b[0;34m\u001b[0m\u001b[0m\n\u001b[0m\u001b[1;32m     10\u001b[0m             nn.MaxPool2d(2))\n\u001b[1;32m     11\u001b[0m \u001b[0;34m\u001b[0m\u001b[0m\n",
      "\u001b[0;31mAttributeError\u001b[0m: module 'torch.nn' has no attribute 'relu'"
     ]
    }
   ],
   "source": [
    "activation_function = mish()\n",
    "model = CNNClassifier(activation_function)\n",
    "train_model(model,data_loaders)"
   ]
  },
  {
   "cell_type": "code",
   "execution_count": null,
   "metadata": {},
   "outputs": [],
   "source": []
  }
 ],
 "metadata": {
  "kernelspec": {
   "display_name": "Python 3",
   "language": "python",
   "name": "python3"
  },
  "language_info": {
   "codemirror_mode": {
    "name": "ipython",
    "version": 3
   },
   "file_extension": ".py",
   "mimetype": "text/x-python",
   "name": "python",
   "nbconvert_exporter": "python",
   "pygments_lexer": "ipython3",
   "version": "3.7.5"
  }
 },
 "nbformat": 4,
 "nbformat_minor": 2
}
