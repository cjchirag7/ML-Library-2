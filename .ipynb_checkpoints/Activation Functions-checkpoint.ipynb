{
 "cells": [
  {
   "cell_type": "code",
   "execution_count": 1,
   "metadata": {},
   "outputs": [],
   "source": [
    "import numpy as np\n",
    "import pandas as pd\n",
    "from collections import OrderedDict\n",
    "import torch\n",
    "import torch.nn.functional as F\n",
    "from torch import nn\n",
    "from torch.nn.parameter import Parameter\n",
    "from torch.autograd import Variable\n",
    "from sklearn.preprocessing import OneHotEncoder\n",
    "%matplotlib inline\n",
    "import matplotlib.pyplot as plt\n",
    "import timeit"
   ]
  },
  {
   "cell_type": "code",
   "execution_count": 2,
   "metadata": {},
   "outputs": [
    {
     "name": "stderr",
     "output_type": "stream",
     "text": [
      "/home/chirag/anaconda3/lib/python3.7/site-packages/sklearn/preprocessing/_encoders.py:368: FutureWarning: The handling of integer data will change in version 0.22. Currently, the categories are determined based on the range [0, max(values)], while in the future they will be determined based on the unique values.\n",
      "If you want the future behaviour and silence this warning, you can specify \"categories='auto'\".\n",
      "In case you used a LabelEncoder before this OneHotEncoder to convert the categories to integers, then you can now use the OneHotEncoder directly.\n",
      "  warnings.warn(msg, FutureWarning)\n",
      "/home/chirag/anaconda3/lib/python3.7/site-packages/sklearn/preprocessing/_encoders.py:368: FutureWarning: The handling of integer data will change in version 0.22. Currently, the categories are determined based on the range [0, max(values)], while in the future they will be determined based on the unique values.\n",
      "If you want the future behaviour and silence this warning, you can specify \"categories='auto'\".\n",
      "In case you used a LabelEncoder before this OneHotEncoder to convert the categories to integers, then you can now use the OneHotEncoder directly.\n",
      "  warnings.warn(msg, FutureWarning)\n"
     ]
    }
   ],
   "source": [
    "# Pre-processing of dataset\n",
    "df=pd.read_csv('digit-recognizer/train.csv')\n",
    "df=df.sample(frac=1)\n",
    "val_data = df[:8400]      # 20% of dataset\n",
    "train_data = df[8400:]    # 80% of dataset\n",
    "device='cpu'\n",
    "onehot_encoder = OneHotEncoder(sparse=False)\n",
    "train_target_labels = torch.tensor(train_data['label'].values.astype(np.float32))\n",
    "train_target = torch.Tensor(onehot_encoder.fit_transform(train_target_labels.view(-1,1)))  #One-Hot Encoding\n",
    "train_target = train_target.to(device).float()\n",
    "train = torch.tensor(train_data.drop('label', axis = 1).values.astype(np.float32)) \n",
    "val_target_labels = torch.tensor(val_data['label'].values.astype(np.float32))\n",
    "val_target = torch.Tensor(onehot_encoder.fit_transform(val_target_labels.view(-1,1)))  #One-Hot Encoding\n",
    "val_target = val_target.to(device).float()\n",
    "val = torch.tensor(val_data.drop('label', axis = 1).values.astype(np.float32)) \n",
    "train=train.view(-1,1,28,28)/255\n",
    "val=val.view(-1,1,28,28)/255\n",
    "train_tensor = torch.utils.data.TensorDataset(train, train_target) \n",
    "train_loader = torch.utils.data.DataLoader(dataset = train_tensor, batch_size = 4096, shuffle = True)\n",
    "val_tensor = torch.utils.data.TensorDataset(val, val_target) \n",
    "val_loader = torch.utils.data.DataLoader(dataset = val_tensor, batch_size = 4096, shuffle = True)\n",
    "\n",
    "data_loaders = {\"train\": train_loader, \"val\": val_loader}"
   ]
  },
  {
   "cell_type": "code",
   "execution_count": 3,
   "metadata": {},
   "outputs": [],
   "source": [
    "class linear(nn.Module):\n",
    "    \"\"\" \n",
    "        Linear activation function\n",
    "        \n",
    "        Range: (-∞,∞)\n",
    "    \"\"\"\n",
    "    def __init__(self,slope=None):\n",
    "        \"\"\"\n",
    "        Parameters:\n",
    "                    slope - trainable parameter\n",
    "        \"\"\"\n",
    "        super(linear,self).__init__()\n",
    "        if slope==None:\n",
    "            self.slope=Parameter(torch.tensor(1.0))\n",
    "        else:\n",
    "            self.slope=Parameter(torch.tensor(slope))        \n",
    "        self.slope.requiresGrad = True \n",
    "        \n",
    "    def forward(self, x):\n",
    "        \"\"\"\n",
    "        Parameters: \n",
    "            x: Input tensor\n",
    "\n",
    "        Returns: \n",
    "            y: Output tensor given by f(x)= slope.x\n",
    "        \"\"\"\n",
    "        y = x*self.slope\n",
    "        return y"
   ]
  },
  {
   "cell_type": "code",
   "execution_count": 4,
   "metadata": {},
   "outputs": [
    {
     "name": "stdout",
     "output_type": "stream",
     "text": [
      "Linear activation function with slope 1.00\n"
     ]
    },
    {
     "data": {
      "text/plain": [
       "[<matplotlib.lines.Line2D at 0x7f231eb40050>]"
      ]
     },
     "execution_count": 4,
     "metadata": {},
     "output_type": "execute_result"
    },
    {
     "data": {
      "image/png": "[encoded data removed]",
      "text/plain": [
       "<Figure size 432x288 with 1 Axes>"
      ]
     },
     "metadata": {
      "needs_background": "light"
     },
     "output_type": "display_data"
    }
   ],
   "source": [
    "print(\"Linear activation function with slope 1.00\")\n",
    "x=torch.sort(torch.randn(100)).values\n",
    "activation=linear()\n",
    "y=activation(x)\n",
    "plt.plot(x.numpy(),y.detach().numpy())"
   ]
  },
  {
   "cell_type": "code",
   "execution_count": 5,
   "metadata": {},
   "outputs": [],
   "source": [
    "class sigmoid(nn.Module):\n",
    "    \"\"\" \n",
    "            Sigmoid activation function\n",
    "\n",
    "            Range: (0,1)\n",
    "            \n",
    "            Drawbacks:\n",
    "            1. Sigmoids saturate and kill gradients\n",
    "            2. Sigmoid outputs are not zero-centered.\n",
    "    \"\"\"\n",
    "    def __init__(self):\n",
    "        super().__init__()\n",
    "        \n",
    "    def forward(self, x):\n",
    "        \"\"\"\n",
    "        Parameters: \n",
    "                x: Input tensor\n",
    "\n",
    "        Returns: \n",
    "                y: Output tensor given by f(x) = 1/(1+exp(-x))\n",
    "        \"\"\"\n",
    "        y=1/(1+torch.exp((-1)*x))\n",
    "        return y"
   ]
  },
  {
   "cell_type": "code",
   "execution_count": 6,
   "metadata": {},
   "outputs": [
    {
     "name": "stdout",
     "output_type": "stream",
     "text": [
      "Sigmoid activation function\n"
     ]
    },
    {
     "data": {
      "text/plain": [
       "[<matplotlib.lines.Line2D at 0x7f231dd6d8d0>]"
      ]
     },
     "execution_count": 6,
     "metadata": {},
     "output_type": "execute_result"
    },
    {
     "data": {
      "image/png": "[encoded data removed]",
      "text/plain": [
       "<Figure size 432x288 with 1 Axes>"
      ]
     },
     "metadata": {
      "needs_background": "light"
     },
     "output_type": "display_data"
    }
   ],
   "source": [
    "print(\"Sigmoid activation function\")\n",
    "x=torch.sort(torch.randn(10000)).values\n",
    "activation=sigmoid()\n",
    "y=activation(x)\n",
    "plt.plot(x.numpy(),y.numpy())"
   ]
  },
  {
   "cell_type": "code",
   "execution_count": 7,
   "metadata": {},
   "outputs": [],
   "source": [
    "class relu(nn.Module):\n",
    "    \"\"\" \n",
    "            ReLU activation function\n",
    "\n",
    "            Range: (0,∞)\n",
    "    \"\"\"\n",
    "    def __init__(self):\n",
    "        super().__init__()\n",
    "        \n",
    "    def forward(self, x):\n",
    "        \"\"\"\n",
    "        Parameters: \n",
    "                x: Input tensor\n",
    "\n",
    "        Returns: \n",
    "                y: Output tensor given by f(x) = max(0,x)\n",
    "        \"\"\"\n",
    "        y=torch.clamp(x,0)\n",
    "        return y"
   ]
  },
  {
   "cell_type": "code",
   "execution_count": 8,
   "metadata": {},
   "outputs": [
    {
     "name": "stdout",
     "output_type": "stream",
     "text": [
      "ReLU activation function\n"
     ]
    },
    {
     "data": {
      "text/plain": [
       "[<matplotlib.lines.Line2D at 0x7f231de0f250>]"
      ]
     },
     "execution_count": 8,
     "metadata": {},
     "output_type": "execute_result"
    },
    {
     "data": {
      "image/png": "[encoded data removed]",
      "text/plain": [
       "<Figure size 432x288 with 1 Axes>"
      ]
     },
     "metadata": {
      "needs_background": "light"
     },
     "output_type": "display_data"
    }
   ],
   "source": [
    "print(\"ReLU activation function\")\n",
    "x=torch.sort(torch.randn(10000)).values\n",
    "activation=relu()\n",
    "y=activation(x)\n",
    "plt.plot(x.numpy(),y.numpy())"
   ]
  },
  {
   "cell_type": "code",
   "execution_count": 9,
   "metadata": {},
   "outputs": [],
   "source": [
    "class leaky_relu(nn.Module):\n",
    "    \"\"\" \n",
    "           Leaky ReLU activation function\n",
    "\n",
    "           Range: (-∞,∞)\n",
    "            \n",
    "           Advantage:\n",
    "                Prevents the problem of dying neurons in ReLU due to fragile gradients\n",
    "    \"\"\"\n",
    "    def __init__(self,alpha=0.01):\n",
    "        \"\"\"\n",
    "        Parameters:\n",
    "            input_features - input features\n",
    "            alpha - constant parameter\n",
    "          \n",
    "        Returns: \n",
    "            y: Output tensor given by f(x)= slope.x\n",
    "        \"\"\"\n",
    "        super().__init__()\n",
    "        self.alpha=alpha\n",
    "        \n",
    "    def forward(self, x):\n",
    "        \"\"\"\n",
    "        Parameters: \n",
    "                x: Input tensor\n",
    "\n",
    "        Returns: \n",
    "                y: Output tensor\n",
    "        \"\"\"\n",
    "        y_negative_region=x*self.alpha\n",
    "        y=torch.where(x>=0,x,y_negative_region)\n",
    "        return y"
   ]
  },
  {
   "cell_type": "code",
   "execution_count": 10,
   "metadata": {},
   "outputs": [
    {
     "name": "stdout",
     "output_type": "stream",
     "text": [
      "Leaky ReLU activation function with alpha(negative-slope) 0.03\n"
     ]
    },
    {
     "data": {
      "text/plain": [
       "[<matplotlib.lines.Line2D at 0x7f231def3710>]"
      ]
     },
     "execution_count": 10,
     "metadata": {},
     "output_type": "execute_result"
    },
    {
     "data": {
      "image/png": "[encoded data removed]",
      "text/plain": [
       "<Figure size 432x288 with 1 Axes>"
      ]
     },
     "metadata": {
      "needs_background": "light"
     },
     "output_type": "display_data"
    }
   ],
   "source": [
    "print(\"Leaky ReLU activation function with alpha(negative-slope) 0.03\")\n",
    "x=torch.sort(torch.randn(10000)).values\n",
    "activation=leaky_relu(alpha=0.03)\n",
    "y=activation(x)\n",
    "plt.plot(x.numpy(),y.numpy())"
   ]
  },
  {
   "cell_type": "code",
   "execution_count": 11,
   "metadata": {},
   "outputs": [],
   "source": [
    "class soft_plus(nn.Module):\n",
    "    \"\"\" \n",
    "            SoftPlus activation function\n",
    "         \n",
    "            Range: (0,∞)\n",
    "            \n",
    "            Interesting note: Derivative is equal to sigmoid function\n",
    "    \"\"\"\n",
    "    def __init__(self):\n",
    "        super().__init__()\n",
    "        \n",
    "    def forward(self, x):\n",
    "        \"\"\"\n",
    "        Parameters: \n",
    "                x: Input tensor\n",
    "\n",
    "        Returns: \n",
    "                y: Output tensor given by ln (1+exp(x))\n",
    "        \"\"\"\n",
    "        y=torch.log(1+torch.exp(x))\n",
    "        return y"
   ]
  },
  {
   "cell_type": "code",
   "execution_count": 12,
   "metadata": {},
   "outputs": [
    {
     "name": "stdout",
     "output_type": "stream",
     "text": [
      "SoftPlus activation function\n"
     ]
    },
    {
     "data": {
      "text/plain": [
       "[<matplotlib.lines.Line2D at 0x7f231ddd3a10>]"
      ]
     },
     "execution_count": 12,
     "metadata": {},
     "output_type": "execute_result"
    },
    {
     "data": {
      "image/png": "[encoded data removed]",
      "text/plain": [
       "<Figure size 432x288 with 1 Axes>"
      ]
     },
     "metadata": {
      "needs_background": "light"
     },
     "output_type": "display_data"
    }
   ],
   "source": [
    "print(\"SoftPlus activation function\")\n",
    "x=torch.sort(torch.randn(10000)).values\n",
    "activation=soft_plus()\n",
    "y=activation(x)\n",
    "plt.plot(x.numpy(),y.numpy())"
   ]
  },
  {
   "cell_type": "code",
   "execution_count": 13,
   "metadata": {},
   "outputs": [],
   "source": [
    "class tanh(nn.Module):\n",
    "    \"\"\" \n",
    "            Tanh activation function\n",
    "         \n",
    "            Range: (-1,1)\n",
    "            \n",
    "            Interesting note: It can be scaled to sigmoid as tanh(x)=2sigmoid(2x)-1\n",
    "    \"\"\"\n",
    "    def __init__(self):\n",
    "        super().__init__()\n",
    "        \n",
    "    def forward(self, x):\n",
    "        \"\"\"\n",
    "        Parameters: \n",
    "                x: Input tensor\n",
    "\n",
    "        Returns: \n",
    "                y: Output\n",
    "        \"\"\"\n",
    "        sigma=sigmoid()\n",
    "        y=2*sigma(2*x) - 1\n",
    "        return y"
   ]
  },
  {
   "cell_type": "code",
   "execution_count": 14,
   "metadata": {},
   "outputs": [
    {
     "name": "stdout",
     "output_type": "stream",
     "text": [
      "Tanh activation function\n"
     ]
    },
    {
     "data": {
      "text/plain": [
       "[<matplotlib.lines.Line2D at 0x7f231e4014d0>]"
      ]
     },
     "execution_count": 14,
     "metadata": {},
     "output_type": "execute_result"
    },
    {
     "data": {
      "image/png": "[encoded data removed]",
      "text/plain": [
       "<Figure size 432x288 with 1 Axes>"
      ]
     },
     "metadata": {
      "needs_background": "light"
     },
     "output_type": "display_data"
    }
   ],
   "source": [
    "print(\"Tanh activation function\")\n",
    "x=torch.sort(torch.randn(10000)).values\n",
    "activation=tanh()\n",
    "y=activation(x)\n",
    "plt.plot(x.numpy(),y.numpy())"
   ]
  },
  {
   "cell_type": "code",
   "execution_count": 15,
   "metadata": {},
   "outputs": [],
   "source": [
    "class swish(nn.Module):\n",
    "    \"\"\" \n",
    "            Swish activation function\n",
    "         \n",
    "            Range: (≈-0.278,∞)\n",
    "                \n",
    "            Interesting note: It is bounded below and unbounded above, so similar to ReLU\n",
    "      \"\"\"\n",
    "    def __init__(self):\n",
    "        super().__init__()\n",
    "        \n",
    "    def forward(self, x):\n",
    "        \"\"\"\n",
    "            Parameters: \n",
    "                x: Input tensor\n",
    "\n",
    "            Returns: \n",
    "                y: Output tensor given by f(x)= x * sigmoid(x)\n",
    "        \"\"\"\n",
    "        sigma=sigmoid()\n",
    "        y=x*sigma(x)\n",
    "        return y"
   ]
  },
  {
   "cell_type": "code",
   "execution_count": 16,
   "metadata": {},
   "outputs": [
    {
     "name": "stdout",
     "output_type": "stream",
     "text": [
      "Swish activation function\n"
     ]
    },
    {
     "data": {
      "text/plain": [
       "[<matplotlib.lines.Line2D at 0x7f231e3f1e10>]"
      ]
     },
     "execution_count": 16,
     "metadata": {},
     "output_type": "execute_result"
    },
    {
     "data": {
      "image/png": "[encoded data removed]",
      "text/plain": [
       "<Figure size 432x288 with 1 Axes>"
      ]
     },
     "metadata": {
      "needs_background": "light"
     },
     "output_type": "display_data"
    }
   ],
   "source": [
    "print(\"Swish activation function\")\n",
    "x=torch.sort(torch.randn(10000)).values\n",
    "activation=swish()\n",
    "y=activation(x)\n",
    "plt.plot(x.numpy(),y.numpy())"
   ]
  },
  {
   "cell_type": "code",
   "execution_count": 17,
   "metadata": {},
   "outputs": [],
   "source": [
    "class mish(nn.Module):\n",
    "    \"\"\" \n",
    "            Mish activation function\n",
    "         \n",
    "            Range: (≈-0.31,∞)\n",
    "                \n",
    "            Interesting note: It is bounded below and unbounded above, so similar to ReLU\n",
    "      \"\"\"\n",
    "    def __init__(self):\n",
    "        super().__init__()\n",
    "        \n",
    "    def forward(self, x):\n",
    "        \"\"\"\n",
    "            Parameters: \n",
    "                x: Input tensor\n",
    "\n",
    "            Returns: \n",
    "                y: Output tensor given by f(x)= x * tanh(soft-plus(x))\n",
    "        \"\"\"\n",
    "        Tanh=tanh()\n",
    "        SoftPlus=soft_plus()\n",
    "        y=x*Tanh(SoftPlus(x))\n",
    "        return y"
   ]
  },
  {
   "cell_type": "code",
   "execution_count": 18,
   "metadata": {},
   "outputs": [
    {
     "name": "stdout",
     "output_type": "stream",
     "text": [
      "Mish activation function\n"
     ]
    },
    {
     "data": {
      "text/plain": [
       "[<matplotlib.lines.Line2D at 0x7f231e34e750>]"
      ]
     },
     "execution_count": 18,
     "metadata": {},
     "output_type": "execute_result"
    },
    {
     "data": {
      "image/png": "[encoded data removed]",
      "text/plain": [
       "<Figure size 432x288 with 1 Axes>"
      ]
     },
     "metadata": {
      "needs_background": "light"
     },
     "output_type": "display_data"
    }
   ],
   "source": [
    "print(\"Mish activation function\")\n",
    "x=torch.sort(torch.randn(10000)).values\n",
    "activation=mish()\n",
    "y=activation(x)\n",
    "plt.plot(x.numpy(),y.numpy())"
   ]
  },
  {
   "cell_type": "code",
   "execution_count": 19,
   "metadata": {},
   "outputs": [],
   "source": [
    "def train_model(model,data_loaders ):\n",
    "    '''\n",
    "    Function trains the model and prints out the training log.\n",
    "    INPUT:\n",
    "        model - initialized PyTorch model ready for training\n",
    "        train_loader - PyTorch dataloader for training data\n",
    "        val_loader - PyTorch dataloader for evaluation on cross-validation data\n",
    "    '''\n",
    "    \n",
    "    loss_fn = nn.BCELoss()\n",
    "    learning_rate = 3e-3\n",
    "    num_epochs = 5\n",
    "    optimizer = torch.optim.Adam(model.parameters(), lr=learning_rate)\n",
    "\n",
    "    for e in range(num_epochs):\n",
    "        print('Epoch {}/{}'.format(e, num_epochs - 1))\n",
    "        print('-' * 10)\n",
    "        for phase in ['train', 'val']:\n",
    "            if phase == 'train':\n",
    "                model.train(True)  # Set model to training mode\n",
    "            else:\n",
    "                model.train(False)  # Set model to evaluate mode\n",
    "            \n",
    "            running_loss = 0\n",
    "            for images, labels in data_loaders[phase]:\n",
    "                labels = labels.to(device='cpu', dtype=torch.float)\n",
    "                log_probs = model(images)\n",
    "                loss = loss_fn(log_probs, labels)                \n",
    "                if phase=='train':    \n",
    "                    optimizer.zero_grad()\n",
    "                    loss.backward()\n",
    "                    optimizer.step()\n",
    "                running_loss += loss.item()\n",
    "            if phase=='train':\n",
    "                print(\"Training loss: \"+str(running_loss))\n",
    "            else:\n",
    "                print(\"Validation loss: \"+str(running_loss))"
   ]
  },
  {
   "cell_type": "code",
   "execution_count": 20,
   "metadata": {},
   "outputs": [],
   "source": [
    "class CNNClassifier(nn.Module):\n",
    "    '''\n",
    "    A classifier based on CNN architecture\n",
    "    '''\n",
    "    def __init__(self,activation):\n",
    "        super().__init__()\n",
    "        self.block1 = nn.Sequential(\n",
    "            nn.Conv2d(1, 16, kernel_size=3, padding=0),\n",
    "            activation,\n",
    "            nn.MaxPool2d(2))\n",
    " \n",
    "        self.block2 = nn.Sequential(\n",
    "            nn.Conv2d(16, 32, kernel_size=3, padding=0),\n",
    "            activation,\n",
    "            nn.MaxPool2d(2))\n",
    "    \n",
    "        self.block3 = nn.Sequential(\n",
    "            nn.Conv2d(32, 64, kernel_size=2, padding=0),\n",
    "            activation,\n",
    "            nn.MaxPool2d(2))\n",
    "        \n",
    "        self.block4 = nn.Sequential(\n",
    "            nn.Conv2d(64, 128, kernel_size=2, padding=0),\n",
    "            activation)\n",
    "                \n",
    "        self.fc1 = nn.Sequential(\n",
    "            nn.Linear(1*1*128, 128),\n",
    "            activation)\n",
    "        \n",
    "        self.fc2 = nn.Sequential(\n",
    "            nn.Linear(128, 64),\n",
    "            activation)\n",
    "        \n",
    "        self.fc3 = nn.Linear(64, 10)\n",
    "        \n",
    "    def forward(self, x):\n",
    "        \n",
    "        out = self.block1(x)\n",
    "        \n",
    "        out = self.block2(out)\n",
    "        \n",
    "        out = self.block3(out)\n",
    "        \n",
    "        out = self.block4(out)\n",
    "        \n",
    "        # Flatten the output of block4\n",
    "        out = out.view(out.size(0), -1)\n",
    "        \n",
    "        out = self.fc1(out)\n",
    "        \n",
    "        out = self.fc2(out)\n",
    "\n",
    "        out = self.fc3(out)\n",
    "    \n",
    "        out = F.softmax(out,dim=1)    \n",
    "        \n",
    "        return out"
   ]
  },
  {
   "cell_type": "code",
   "execution_count": 21,
   "metadata": {},
   "outputs": [
    {
     "name": "stdout",
     "output_type": "stream",
     "text": [
      "\n",
      " \n",
      " Activation Function : linear\n",
      "Epoch 0/4\n",
      "----------\n",
      "Training loss: 2.5386477261781693\n",
      "Validation loss: 0.5125829428434372\n",
      "Epoch 1/4\n",
      "----------\n",
      "Training loss: 1.2965108379721642\n",
      "Validation loss: 0.27110200375318527\n",
      "Epoch 2/4\n",
      "----------\n",
      "Training loss: 0.7095886766910553\n",
      "Validation loss: 0.18393702059984207\n",
      "Epoch 3/4\n",
      "----------\n",
      "Training loss: 0.46583862230181694\n",
      "Validation loss: 0.12346021085977554\n",
      "Epoch 4/4\n",
      "----------\n",
      "Training loss: 0.3279237598180771\n",
      "Validation loss: 0.10107746720314026\n",
      "Time Elapsed : 51.931049032000374 seconds \n",
      "accuracy :  9.964285714285715 %\n",
      "\n",
      " \n",
      " Activation Function : sigmoid\n",
      "Epoch 0/4\n",
      "----------\n",
      "Training loss: 2.933335930109024\n",
      "Validation loss: 0.9761532247066498\n",
      "Epoch 1/4\n",
      "----------\n",
      "Training loss: 2.926721751689911\n",
      "Validation loss: 0.9750734567642212\n",
      "Epoch 2/4\n",
      "----------\n",
      "Training loss: 2.9262951612472534\n",
      "Validation loss: 0.9760203659534454\n",
      "Epoch 3/4\n",
      "----------\n",
      "Training loss: 2.9252399802207947\n",
      "Validation loss: 0.9742337167263031\n",
      "Epoch 4/4\n",
      "----------\n",
      "Training loss: 2.9255509972572327\n",
      "Validation loss: 0.9750176966190338\n",
      "Time Elapsed : 78.79300474399861 seconds \n",
      "accuracy :  11.30952380952381 %\n",
      "\n",
      " \n",
      " Activation Function : relu\n",
      "Epoch 0/4\n",
      "----------\n",
      "Training loss: 2.896178185939789\n",
      "Validation loss: 0.9191426038742065\n",
      "Epoch 1/4\n",
      "----------\n",
      "Training loss: 2.3049208372831345\n",
      "Validation loss: 0.61370849609375\n",
      "Epoch 2/4\n",
      "----------\n",
      "Training loss: 1.5495788305997849\n",
      "Validation loss: 0.4107115864753723\n",
      "Epoch 3/4\n",
      "----------\n",
      "Training loss: 1.0309822708368301\n",
      "Validation loss: 0.26950013637542725\n",
      "Epoch 4/4\n",
      "----------\n",
      "Training loss: 0.6960310116410255\n",
      "Validation loss: 0.2021327093243599\n",
      "Time Elapsed : 51.3089710889999 seconds \n",
      "accuracy :  10.214285714285715 %\n",
      "\n",
      " \n",
      " Activation Function : leaky_relu\n",
      "Epoch 0/4\n",
      "----------\n",
      "Training loss: 2.916383057832718\n",
      "Validation loss: 0.9512894451618195\n",
      "Epoch 1/4\n",
      "----------\n",
      "Training loss: 2.588855102658272\n",
      "Validation loss: 0.7508940994739532\n",
      "Epoch 2/4\n",
      "----------\n",
      "Training loss: 1.9071759730577469\n",
      "Validation loss: 0.5167789310216904\n",
      "Epoch 3/4\n",
      "----------\n",
      "Training loss: 1.3134685754776\n",
      "Validation loss: 0.3295595645904541\n",
      "Epoch 4/4\n",
      "----------\n",
      "Training loss: 0.7983395531773567\n",
      "Validation loss: 0.2082255631685257\n",
      "Time Elapsed : 67.4078964700002 seconds \n",
      "accuracy :  10.166666666666666 %\n",
      "\n",
      " \n",
      " Activation Function : soft_plus\n",
      "Epoch 0/4\n",
      "----------\n",
      "Training loss: 2.9479494094848633\n",
      "Validation loss: 0.9757376313209534\n",
      "Epoch 1/4\n",
      "----------\n",
      "Training loss: 2.9271492063999176\n",
      "Validation loss: 0.9748229682445526\n",
      "Epoch 2/4\n",
      "----------\n",
      "Training loss: 2.925179660320282\n",
      "Validation loss: 0.9744951128959656\n",
      "Epoch 3/4\n",
      "----------\n",
      "Training loss: 2.925257444381714\n",
      "Validation loss: 0.9744511544704437\n",
      "Epoch 4/4\n",
      "----------\n",
      "Training loss: 2.925610214471817\n",
      "Validation loss: 0.9742873311042786\n",
      "Time Elapsed : 56.07021896799961 seconds \n",
      "accuracy :  11.30952380952381 %\n",
      "\n",
      " \n",
      " Activation Function : tanh\n",
      "Epoch 0/4\n",
      "----------\n",
      "Training loss: 2.6184939593076706\n",
      "Validation loss: 0.6419799029827118\n",
      "Epoch 1/4\n",
      "----------\n",
      "Training loss: 1.5543248802423477\n",
      "Validation loss: 0.38948172330856323\n",
      "Epoch 2/4\n",
      "----------\n",
      "Training loss: 0.9038030132651329\n",
      "Validation loss: 0.21462228149175644\n",
      "Epoch 3/4\n",
      "----------\n",
      "Training loss: 0.513078760355711\n",
      "Validation loss: 0.1327471099793911\n",
      "Epoch 4/4\n",
      "----------\n",
      "Training loss: 0.34856214188039303\n",
      "Validation loss: 0.10038042441010475\n",
      "Time Elapsed : 84.94992168799945 seconds \n",
      "accuracy :  10.035714285714285 %\n",
      "\n",
      " \n",
      " Activation Function : swish\n",
      "Epoch 0/4\n",
      "----------\n",
      "Training loss: 2.9086556136608124\n",
      "Validation loss: 0.9354704022407532\n",
      "Epoch 1/4\n",
      "----------\n",
      "Training loss: 2.1349250227212906\n",
      "Validation loss: 0.5901269912719727\n",
      "Epoch 2/4\n",
      "----------\n",
      "Training loss: 1.3384402841329575\n",
      "Validation loss: 0.3703698515892029\n",
      "Epoch 3/4\n",
      "----------\n",
      "Training loss: 0.9633988440036774\n",
      "Validation loss: 0.2751956805586815\n",
      "Epoch 4/4\n",
      "----------\n",
      "Training loss: 0.7378595694899559\n",
      "Validation loss: 0.20156829804182053\n",
      "Time Elapsed : 86.15143415100101 seconds \n",
      "accuracy :  10.238095238095237 %\n",
      "\n",
      " \n",
      " Activation Function : mish\n",
      "Epoch 0/4\n",
      "----------\n",
      "Training loss: 2.8602353632450104\n",
      "Validation loss: 0.8208102285861969\n",
      "Epoch 1/4\n",
      "----------\n",
      "Training loss: 2.0413508862257004\n",
      "Validation loss: 0.5481480360031128\n",
      "Epoch 2/4\n",
      "----------\n",
      "Training loss: 1.2107258290052414\n",
      "Validation loss: 0.29544762521982193\n",
      "Epoch 3/4\n",
      "----------\n",
      "Training loss: 0.7917827740311623\n",
      "Validation loss: 0.2198508083820343\n",
      "Epoch 4/4\n",
      "----------\n",
      "Training loss: 0.5691328682005405\n",
      "Validation loss: 0.16889628767967224\n",
      "Time Elapsed : 114.57109530999878 seconds \n",
      "accuracy :  10.488095238095237 %\n"
     ]
    }
   ],
   "source": [
    "activation_functions = {\"linear\": linear, \"sigmoid\": sigmoid,\"relu\": relu,\"leaky_relu\": leaky_relu,\n",
    "                       \"soft_plus\": soft_plus, \"tanh\": tanh, \"swish\": swish,\"mish\" : mish}\n",
    "\n",
    "for activation in activation_functions:\n",
    "    \n",
    "    print(\"\\n \\n Activation Function : \"+activation)\n",
    "    start = timeit.default_timer()\n",
    "\n",
    "    activation_function = activation_functions[activation]()\n",
    "    model = CNNClassifier(activation_function)\n",
    "    train_model(model,data_loaders)\n",
    "\n",
    "    stop = timeit.default_timer()\n",
    "    print('Time Elapsed : ' + str(stop - start) + ' seconds ') \n",
    "\n",
    "    # Prediciting output on Validation Set\n",
    "    y=[]\n",
    "    for images, labels in val_loader:\n",
    "        log_probs = model(images)\n",
    "        target=np.argmax(log_probs.detach().numpy(),axis=1)\n",
    "        y=np.hstack((y,target))\n",
    "    y=y.astype(np.int32)\n",
    "    print('accuracy : ',np.mean(y==val_target_labels.numpy())*100,'%')"
   ]
  },
  {
   "cell_type": "code",
   "execution_count": 24,
   "metadata": {},
   "outputs": [],
   "source": [
    "# Prediciting output on Kaggle Test Set\n",
    "test=pd.read_csv('digit-recognizer/test.csv')\n",
    "test_data = torch.tensor(test.values.astype(np.float32)) \n",
    "test_target = torch.zeros(test_data.shape[0],1)\n",
    "test_data=test_data.view(-1,1,28,28)/255\n",
    "\n",
    "test_tensor = torch.utils.data.TensorDataset(test_data, test_target) \n",
    "test_loader = torch.utils.data.DataLoader(dataset = test_tensor, batch_size = 4096, shuffle = False)\n",
    "y=[]\n",
    "for images, labels in test_loader:\n",
    "    log_probs = model(images)\n",
    "    target=np.argmax(log_probs.detach().numpy(),axis=1)\n",
    "    y=np.hstack((y,target))\n",
    "\n",
    "ind = np.array(range(1,y.shape[0]+1))\n",
    "y = y.astype(np.int32)\n",
    "res = pd.DataFrame({'ImageId': ind[:], 'Label': y[:]})\n",
    "res.to_csv('submission.csv',index=False)"
   ]
  }
 ],
 "metadata": {
  "kernelspec": {
   "display_name": "Python 3",
   "language": "python",
   "name": "python3"
  },
  "language_info": {
   "codemirror_mode": {
    "name": "ipython",
    "version": 3
   },
   "file_extension": ".py",
   "mimetype": "text/x-python",
   "name": "python",
   "nbconvert_exporter": "python",
   "pygments_lexer": "ipython3",
   "version": "3.7.5"
  }
 },
 "nbformat": 4,
 "nbformat_minor": 2
}
