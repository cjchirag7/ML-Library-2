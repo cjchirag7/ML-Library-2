{
 "cells": [
  {
   "cell_type": "code",
   "execution_count": 61,
   "metadata": {},
   "outputs": [],
   "source": [
    "import numpy as np\n",
    "%matplotlib inline\n",
    "import matplotlib.pyplot as plt"
   ]
  },
  {
   "cell_type": "code",
   "execution_count": 62,
   "metadata": {},
   "outputs": [],
   "source": [
    "def linear(x,m=1):\n",
    "        \"\"\" \n",
    "        Linear activation function\n",
    "\n",
    "        Parameters: \n",
    "            x: Input tensor\n",
    "            m: weight\n",
    "          \n",
    "        Returns: \n",
    "            y: Output tensor given by f(x)= m.x\n",
    "        \n",
    "        Range: (-∞,∞)\n",
    "        \"\"\"\n",
    "        y=np.multiply(m,x)\n",
    "        return y"
   ]
  },
  {
   "cell_type": "code",
   "execution_count": 128,
   "metadata": {},
   "outputs": [
    {
     "name": "stdout",
     "output_type": "stream",
     "text": [
      "Linear activation function with slope 1.00\n"
     ]
    },
    {
     "data": {
      "text/plain": [
       "[<matplotlib.lines.Line2D at 0x7fc6ad36df90>]"
      ]
     },
     "execution_count": 128,
     "metadata": {},
     "output_type": "execute_result"
    },
    {
     "data": {
      "image/png": "[encoded data removed]",
      "text/plain": [
       "<Figure size 432x288 with 1 Axes>"
      ]
     },
     "metadata": {
      "needs_background": "light"
     },
     "output_type": "display_data"
    }
   ],
   "source": [
    "print(\"Linear activation function with slope 1.00\")\n",
    "x=np.sort(np.random.randn(100))\n",
    "y=linear(x,m=3)\n",
    "plt.plot(x,y)"
   ]
  },
  {
   "cell_type": "code",
   "execution_count": 76,
   "metadata": {},
   "outputs": [],
   "source": [
    "def sigmoid(x):\n",
    "        \"\"\" \n",
    "            Sigmoid activation function\n",
    "\n",
    "            Parameters: \n",
    "                x: Input tensor\n",
    "\n",
    "            Returns: \n",
    "                y: Output tensor given by f(x) = 1/(1+exp(-x))\n",
    "\n",
    "            Range: (0,1)\n",
    "            \n",
    "            Drawbacks:\n",
    "            1. Sigmoids saturate and kill gradients\n",
    "            2. Sigmoid outputs are not zero-centered.\n",
    "        \"\"\"\n",
    "        y=1/(1+np.exp(np.multiply(x,-1)))\n",
    "        return y"
   ]
  },
  {
   "cell_type": "code",
   "execution_count": 65,
   "metadata": {},
   "outputs": [
    {
     "name": "stdout",
     "output_type": "stream",
     "text": [
      "Sigmoid activation function\n"
     ]
    },
    {
     "data": {
      "text/plain": [
       "[<matplotlib.lines.Line2D at 0x7fc6b06af2d0>]"
      ]
     },
     "execution_count": 65,
     "metadata": {},
     "output_type": "execute_result"
    },
    {
     "data": {
      "image/png": "[encoded data removed]",
      "text/plain": [
       "<Figure size 432x288 with 1 Axes>"
      ]
     },
     "metadata": {
      "needs_background": "light"
     },
     "output_type": "display_data"
    }
   ],
   "source": [
    "print(\"Sigmoid activation function\")\n",
    "x=np.random.randn(10000)\n",
    "x=np.sort(x)\n",
    "y=sigmoid(x)\n",
    "plt.plot(x,y)"
   ]
  },
  {
   "cell_type": "code",
   "execution_count": 78,
   "metadata": {},
   "outputs": [],
   "source": [
    "def relu(x):\n",
    "        \"\"\" \n",
    "            ReLU activation function\n",
    "\n",
    "            Parameters: \n",
    "                x: Input tensor\n",
    "\n",
    "            Returns: \n",
    "                y: Output tensor given by f(x) = max(0,x)\n",
    "\n",
    "            Range: (0,∞)\n",
    "        \"\"\"\n",
    "        zeros=np.zeros(x.shape)\n",
    "        y=np.maximum(zeros,x)\n",
    "        return y"
   ]
  },
  {
   "cell_type": "code",
   "execution_count": 79,
   "metadata": {},
   "outputs": [
    {
     "name": "stdout",
     "output_type": "stream",
     "text": [
      "ReLU activation function\n"
     ]
    },
    {
     "data": {
      "text/plain": [
       "[<matplotlib.lines.Line2D at 0x7fc6b03c7710>]"
      ]
     },
     "execution_count": 79,
     "metadata": {},
     "output_type": "execute_result"
    },
    {
     "data": {
      "image/png": "[encoded data removed]",
      "text/plain": [
       "<Figure size 432x288 with 1 Axes>"
      ]
     },
     "metadata": {
      "needs_background": "light"
     },
     "output_type": "display_data"
    }
   ],
   "source": [
    "print(\"ReLU activation function\")\n",
    "x=np.random.randn(10000)\n",
    "x=np.sort(x)\n",
    "y=relu(x)\n",
    "plt.plot(x,y)"
   ]
  },
  {
   "cell_type": "code",
   "execution_count": 95,
   "metadata": {},
   "outputs": [],
   "source": [
    "def leaky_relu(x,alpha=0.01):\n",
    "        \"\"\" \n",
    "            Leaky ReLU activation function\n",
    "\n",
    "            Parameters: \n",
    "                x: Input tensor\n",
    "\n",
    "            Returns: \n",
    "                y: Output tensor\n",
    "\n",
    "            Range: (-∞,∞)\n",
    "            \n",
    "            Advantage:\n",
    "                Prevents the problem of dying neurons in ReLU due to fragile gradients\n",
    "        \"\"\"\n",
    "        y[x>=0]=x[x>=0]\n",
    "        y[x<0]=np.multiply(alpha,x[x<0])\n",
    "        return y"
   ]
  },
  {
   "cell_type": "code",
   "execution_count": 96,
   "metadata": {},
   "outputs": [
    {
     "name": "stdout",
     "output_type": "stream",
     "text": [
      "Leaky ReLU activation function with alpha 0.03\n"
     ]
    },
    {
     "data": {
      "text/plain": [
       "[<matplotlib.lines.Line2D at 0x7fc6affacb90>]"
      ]
     },
     "execution_count": 96,
     "metadata": {},
     "output_type": "execute_result"
    },
    {
     "data": {
      "image/png": "[encoded data removed]",
      "text/plain": [
       "<Figure size 432x288 with 1 Axes>"
      ]
     },
     "metadata": {
      "needs_background": "light"
     },
     "output_type": "display_data"
    }
   ],
   "source": [
    "print(\"Leaky ReLU activation function with alpha 0.03\")\n",
    "x=np.random.randn(10000)\n",
    "x=np.sort(x)\n",
    "y=leaky_relu(x,alpha=0.03)\n",
    "plt.plot(x,y)"
   ]
  },
  {
   "cell_type": "code",
   "execution_count": 103,
   "metadata": {},
   "outputs": [],
   "source": [
    "def soft_plus(x):\n",
    "        \"\"\" \n",
    "            SoftPlus activation function\n",
    "\n",
    "            Parameters: \n",
    "                x: Input tensor\n",
    "\n",
    "            Returns: \n",
    "                y: Output tensor given by ln (1+exp(x))\n",
    "\n",
    "            Range: (0,∞)\n",
    "            \n",
    "            Interesting note: Derivative is equal to sigmoid function\n",
    "        \"\"\"\n",
    "        y=np.log(1+np.exp(x))\n",
    "        return y"
   ]
  },
  {
   "cell_type": "code",
   "execution_count": 104,
   "metadata": {},
   "outputs": [
    {
     "name": "stdout",
     "output_type": "stream",
     "text": [
      "SoftPlus activation function\n"
     ]
    },
    {
     "data": {
      "text/plain": [
       "[<matplotlib.lines.Line2D at 0x7fc6afe78190>]"
      ]
     },
     "execution_count": 104,
     "metadata": {},
     "output_type": "execute_result"
    },
    {
     "data": {
      "image/png": "[encoded data removed]",
      "text/plain": [
       "<Figure size 432x288 with 1 Axes>"
      ]
     },
     "metadata": {
      "needs_background": "light"
     },
     "output_type": "display_data"
    }
   ],
   "source": [
    "print(\"SoftPlus activation function\")\n",
    "x=np.random.randn(10000)\n",
    "x=np.sort(x)\n",
    "y=soft_plus(x)\n",
    "plt.plot(x,y)"
   ]
  },
  {
   "cell_type": "code",
   "execution_count": 117,
   "metadata": {},
   "outputs": [],
   "source": [
    "def tanh(x):\n",
    "        \"\"\" \n",
    "            Tanh activation function\n",
    "\n",
    "            Parameters: \n",
    "                x: Input tensor\n",
    "\n",
    "            Returns: \n",
    "                y: Output tensor\n",
    "\n",
    "            Range: (-1,1)\n",
    "            \n",
    "            Interesting note: It can be scaled to sigmoid as tanh(x)=2sigmoid(2x)-1\n",
    "        \"\"\"\n",
    "        y=2*sigmoid(np.multiply(2,x)) - 1\n",
    "        return y"
   ]
  },
  {
   "cell_type": "code",
   "execution_count": 118,
   "metadata": {},
   "outputs": [
    {
     "name": "stdout",
     "output_type": "stream",
     "text": [
      "Tanh activation function\n"
     ]
    },
    {
     "data": {
      "text/plain": [
       "[<matplotlib.lines.Line2D at 0x7fc6af15fc90>]"
      ]
     },
     "execution_count": 118,
     "metadata": {},
     "output_type": "execute_result"
    },
    {
     "data": {
      "image/png": "[encoded data removed]",
      "text/plain": [
       "<Figure size 432x288 with 1 Axes>"
      ]
     },
     "metadata": {
      "needs_background": "light"
     },
     "output_type": "display_data"
    }
   ],
   "source": [
    "print(\"Tanh activation function\")\n",
    "x=np.random.randn(10000)\n",
    "x=np.sort(x)\n",
    "y=tanh(x)\n",
    "plt.plot(x,y)"
   ]
  },
  {
   "cell_type": "code",
   "execution_count": 119,
   "metadata": {},
   "outputs": [],
   "source": [
    "def swish(x):\n",
    "        \"\"\" \n",
    "            Swish activation function\n",
    "\n",
    "            Parameters: \n",
    "                x: Input tensor\n",
    "\n",
    "            Returns: \n",
    "                y: Output tensor given by f(x)= x * sigmoid(x)\n",
    "\n",
    "            Range: (≈-0.278,∞)\n",
    "            \n",
    "            Interesting note: It is bounded below and unbounded above, so similar to ReLU\n",
    "        \"\"\"\n",
    "        y=np.multiply(x,sigmoid(x))\n",
    "        return y"
   ]
  },
  {
   "cell_type": "code",
   "execution_count": 126,
   "metadata": {},
   "outputs": [
    {
     "name": "stdout",
     "output_type": "stream",
     "text": [
      "Swish activation function\n"
     ]
    },
    {
     "data": {
      "text/plain": [
       "[<matplotlib.lines.Line2D at 0x7fc6ad42e3d0>]"
      ]
     },
     "execution_count": 126,
     "metadata": {},
     "output_type": "execute_result"
    },
    {
     "data": {
      "image/png": "[encoded data removed]",
      "text/plain": [
       "<Figure size 432x288 with 1 Axes>"
      ]
     },
     "metadata": {
      "needs_background": "light"
     },
     "output_type": "display_data"
    }
   ],
   "source": [
    "print(\"Swish activation function\")\n",
    "x=np.random.randn(10000)\n",
    "x=np.sort(x)\n",
    "y=swish(x)\n",
    "plt.plot(x,y)"
   ]
  },
  {
   "cell_type": "code",
   "execution_count": 124,
   "metadata": {},
   "outputs": [],
   "source": [
    "def mish(x):\n",
    "        \"\"\" \n",
    "            Mish activation function\n",
    "\n",
    "            Parameters: \n",
    "                x: Input tensor\n",
    "\n",
    "            Returns: \n",
    "                y: Output tensor given by f(x)= x * tanh(soft-plus(x))\n",
    "\n",
    "            Range: (≈-0.31,∞)\n",
    "            \n",
    "            Interesting note: It is bounded below and unbounded above, so similar to ReLU\n",
    "        \"\"\"\n",
    "        y=np.multiply(x,tanh(soft_plus(x)))\n",
    "        return y"
   ]
  },
  {
   "cell_type": "code",
   "execution_count": 127,
   "metadata": {},
   "outputs": [
    {
     "name": "stdout",
     "output_type": "stream",
     "text": [
      "Mish activation function\n"
     ]
    },
    {
     "data": {
      "text/plain": [
       "[<matplotlib.lines.Line2D at 0x7fc6ad38b250>]"
      ]
     },
     "execution_count": 127,
     "metadata": {},
     "output_type": "execute_result"
    },
    {
     "data": {
      "image/png": "[encoded data removed]",
      "text/plain": [
       "<Figure size 432x288 with 1 Axes>"
      ]
     },
     "metadata": {
      "needs_background": "light"
     },
     "output_type": "display_data"
    }
   ],
   "source": [
    "print(\"Mish activation function\")\n",
    "x=np.random.randn(10000)\n",
    "x=np.sort(x)\n",
    "y=mish(x)\n",
    "plt.plot(x,y)"
   ]
  }
 ],
 "metadata": {
  "kernelspec": {
   "display_name": "Python 3",
   "language": "python",
   "name": "python3"
  },
  "language_info": {
   "codemirror_mode": {
    "name": "ipython",
    "version": 3
   },
   "file_extension": ".py",
   "mimetype": "text/x-python",
   "name": "python",
   "nbconvert_exporter": "python",
   "pygments_lexer": "ipython3",
   "version": "3.7.5"
  }
 },
 "nbformat": 4,
 "nbformat_minor": 2
}
