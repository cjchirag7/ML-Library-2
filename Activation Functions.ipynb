{
 "cells": [
  {
   "cell_type": "code",
   "execution_count": 113,
   "metadata": {},
   "outputs": [],
   "source": [
    "import torch\n",
    "import torch.nn.functional as F\n",
    "from torch import nn\n",
    "from torch.nn.parameter import Parameter\n",
    "from torch.autograd import Variable\n",
    "%matplotlib inline\n",
    "import matplotlib.pyplot as plt"
   ]
  },
  {
   "cell_type": "code",
   "execution_count": 114,
   "metadata": {},
   "outputs": [],
   "source": [
    "class linear(nn.Module):\n",
    "    \"\"\" \n",
    "        Linear activation function\n",
    "        \n",
    "        Range: (-∞,∞)\n",
    "    \"\"\"\n",
    "    def __init__(self,input_features,slope=None):\n",
    "        \"\"\"\n",
    "        Parameters:\n",
    "                    input_features - input features\n",
    "                    slope - trainable parameter\n",
    "        \"\"\"\n",
    "        super(linear,self).__init__()\n",
    "        self.input_features=input_features\n",
    "        if slope==None:\n",
    "            self.slope=Parameter(torch.tensor(1.0))\n",
    "        else:\n",
    "            self.slope=Parameter(torch.tensor(slope))        \n",
    "        self.slope.requiresGrad = True \n",
    "        \n",
    "    def forward(self, x):\n",
    "        \"\"\"\n",
    "        Parameters: \n",
    "            x: Input tensor\n",
    "\n",
    "        Returns: \n",
    "            y: Output tensor given by f(x)= slope.x\n",
    "        \"\"\"\n",
    "        return x*self.slope"
   ]
  },
  {
   "cell_type": "code",
   "execution_count": 115,
   "metadata": {},
   "outputs": [
    {
     "name": "stdout",
     "output_type": "stream",
     "text": [
      "Linear activation function with slope 1.00\n"
     ]
    },
    {
     "data": {
      "text/plain": [
       "[<matplotlib.lines.Line2D at 0x7f0cd9d5f810>]"
      ]
     },
     "execution_count": 115,
     "metadata": {},
     "output_type": "execute_result"
    },
    {
     "data": {
      "image/png": "[encoded data removed]",
      "text/plain": [
       "<Figure size 432x288 with 1 Axes>"
      ]
     },
     "metadata": {
      "needs_background": "light"
     },
     "output_type": "display_data"
    }
   ],
   "source": [
    "print(\"Linear activation function with slope 1.00\")\n",
    "x=torch.sort(torch.randn(100)).values\n",
    "activation=linear(100)\n",
    "y=activation(x)\n",
    "plt.plot(x.numpy(),y.detach().numpy())"
   ]
  },
  {
   "cell_type": "code",
   "execution_count": 116,
   "metadata": {},
   "outputs": [],
   "source": [
    "class sigmoid(nn.Module):\n",
    "    \"\"\" \n",
    "            Sigmoid activation function\n",
    "\n",
    "            Range: (0,1)\n",
    "            \n",
    "            Drawbacks:\n",
    "            1. Sigmoids saturate and kill gradients\n",
    "            2. Sigmoid outputs are not zero-centered.\n",
    "    \"\"\"\n",
    "    def __init__(self):\n",
    "        super().__init__()\n",
    "        \n",
    "    def forward(self, x):\n",
    "        \"\"\"\n",
    "        Parameters: \n",
    "                x: Input tensor\n",
    "\n",
    "        Returns: \n",
    "                y: Output tensor given by f(x) = 1/(1+exp(-x))\n",
    "        \"\"\"\n",
    "        y=1/(1+torch.exp((-1)*x))\n",
    "        return y"
   ]
  },
  {
   "cell_type": "code",
   "execution_count": 117,
   "metadata": {},
   "outputs": [
    {
     "name": "stdout",
     "output_type": "stream",
     "text": [
      "Sigmoid activation function\n"
     ]
    },
    {
     "data": {
      "text/plain": [
       "[<matplotlib.lines.Line2D at 0x7f0cd9cbcad0>]"
      ]
     },
     "execution_count": 117,
     "metadata": {},
     "output_type": "execute_result"
    },
    {
     "data": {
      "image/png": "[encoded data removed]",
      "text/plain": [
       "<Figure size 432x288 with 1 Axes>"
      ]
     },
     "metadata": {
      "needs_background": "light"
     },
     "output_type": "display_data"
    }
   ],
   "source": [
    "print(\"Sigmoid activation function\")\n",
    "x=torch.sort(torch.randn(10000)).values\n",
    "activation=sigmoid()\n",
    "y=activation(x)\n",
    "plt.plot(x.numpy(),y.numpy())"
   ]
  },
  {
   "cell_type": "code",
   "execution_count": 118,
   "metadata": {},
   "outputs": [],
   "source": [
    "class relu(nn.Module):\n",
    "    \"\"\" \n",
    "            ReLU activation function\n",
    "\n",
    "            Range: (0,∞)\n",
    "    \"\"\"\n",
    "    def __init__(self):\n",
    "        super().__init__()\n",
    "        \n",
    "    def forward(self, x):\n",
    "        \"\"\"\n",
    "        Parameters: \n",
    "                x: Input tensor\n",
    "\n",
    "        Returns: \n",
    "                y: Output tensor given by f(x) = max(0,x)\n",
    "        \"\"\"\n",
    "        y=torch.clamp(x,0)\n",
    "        return y"
   ]
  },
  {
   "cell_type": "code",
   "execution_count": 119,
   "metadata": {},
   "outputs": [
    {
     "name": "stdout",
     "output_type": "stream",
     "text": [
      "ReLU activation function\n"
     ]
    },
    {
     "data": {
      "text/plain": [
       "[<matplotlib.lines.Line2D at 0x7f0cd9c2bb50>]"
      ]
     },
     "execution_count": 119,
     "metadata": {},
     "output_type": "execute_result"
    },
    {
     "data": {
      "image/png": "[encoded data removed]",
      "text/plain": [
       "<Figure size 432x288 with 1 Axes>"
      ]
     },
     "metadata": {
      "needs_background": "light"
     },
     "output_type": "display_data"
    }
   ],
   "source": [
    "print(\"ReLU activation function\")\n",
    "x=torch.sort(torch.randn(10000)).values\n",
    "activation=relu()\n",
    "y=activation(x)\n",
    "plt.plot(x.numpy(),y.numpy())"
   ]
  },
  {
   "cell_type": "code",
   "execution_count": 120,
   "metadata": {},
   "outputs": [],
   "source": [
    "class leaky_relu(nn.Module):\n",
    "    \"\"\" \n",
    "           Leaky ReLU activation function\n",
    "\n",
    "           Range: (-∞,∞)\n",
    "            \n",
    "           Advantage:\n",
    "                Prevents the problem of dying neurons in ReLU due to fragile gradients\n",
    "    \"\"\"\n",
    "    def __init__(self,alpha=0.01):\n",
    "        \"\"\"\n",
    "        Parameters:\n",
    "            input_features - input features\n",
    "            alpha - constant parameter\n",
    "          \n",
    "        Returns: \n",
    "            y: Output tensor given by f(x)= slope.x\n",
    "        \"\"\"\n",
    "        super().__init__()\n",
    "        self.alpha=alpha\n",
    "        \n",
    "    def forward(self, x):\n",
    "        \"\"\"\n",
    "        Parameters: \n",
    "                x: Input tensor\n",
    "\n",
    "        Returns: \n",
    "                y: Output tensor\n",
    "        \"\"\"\n",
    "        positive_indices=torch.where(x>=0)\n",
    "        negative_indices=torch.where(x<0)\n",
    "        y[positive_indices]=x[positive_indices]\n",
    "        y[negative_indices]=x[negative_indices]*self.alpha\n",
    "        return y"
   ]
  },
  {
   "cell_type": "code",
   "execution_count": 121,
   "metadata": {},
   "outputs": [
    {
     "name": "stdout",
     "output_type": "stream",
     "text": [
      "Leaky ReLU activation function with alpha(negative-slope) 0.03\n"
     ]
    },
    {
     "data": {
      "text/plain": [
       "[<matplotlib.lines.Line2D at 0x7f0cd9ba3790>]"
      ]
     },
     "execution_count": 121,
     "metadata": {},
     "output_type": "execute_result"
    },
    {
     "data": {
      "image/png": "[encoded data removed]",
      "text/plain": [
       "<Figure size 432x288 with 1 Axes>"
      ]
     },
     "metadata": {
      "needs_background": "light"
     },
     "output_type": "display_data"
    }
   ],
   "source": [
    "print(\"Leaky ReLU activation function with alpha(negative-slope) 0.03\")\n",
    "x=torch.sort(torch.randn(10000)).values\n",
    "activation=leaky_relu(alpha=0.03)\n",
    "y=activation(x)\n",
    "plt.plot(x.numpy(),y.numpy())"
   ]
  },
  {
   "cell_type": "code",
   "execution_count": 122,
   "metadata": {},
   "outputs": [],
   "source": [
    "class soft_plus(nn.Module):\n",
    "    \"\"\" \n",
    "            SoftPlus activation function\n",
    "         \n",
    "            Range: (0,∞)\n",
    "            \n",
    "            Interesting note: Derivative is equal to sigmoid function\n",
    "    \"\"\"\n",
    "    def __init__(self):\n",
    "        super().__init__()\n",
    "        \n",
    "    def forward(self, x):\n",
    "        \"\"\"\n",
    "        Parameters: \n",
    "                x: Input tensor\n",
    "\n",
    "        Returns: \n",
    "                y: Output tensor given by ln (1+exp(x))\n",
    "        \"\"\"\n",
    "        y=torch.log(1+torch.exp(x))\n",
    "        return y"
   ]
  },
  {
   "cell_type": "code",
   "execution_count": 123,
   "metadata": {},
   "outputs": [
    {
     "name": "stdout",
     "output_type": "stream",
     "text": [
      "SoftPlus activation function\n"
     ]
    },
    {
     "data": {
      "text/plain": [
       "[<matplotlib.lines.Line2D at 0x7f0cd9b9b7d0>]"
      ]
     },
     "execution_count": 123,
     "metadata": {},
     "output_type": "execute_result"
    },
    {
     "data": {
      "image/png": "[encoded data removed]",
      "text/plain": [
       "<Figure size 432x288 with 1 Axes>"
      ]
     },
     "metadata": {
      "needs_background": "light"
     },
     "output_type": "display_data"
    }
   ],
   "source": [
    "print(\"SoftPlus activation function\")\n",
    "x=torch.sort(torch.randn(10000)).values\n",
    "activation=soft_plus()\n",
    "y=activation(x)\n",
    "plt.plot(x.numpy(),y.numpy())"
   ]
  },
  {
   "cell_type": "code",
   "execution_count": 124,
   "metadata": {},
   "outputs": [],
   "source": [
    "class tanh(nn.Module):\n",
    "    \"\"\" \n",
    "            Tanh activation function\n",
    "         \n",
    "            Range: (-1,1)\n",
    "            \n",
    "            Interesting note: It can be scaled to sigmoid as tanh(x)=2sigmoid(2x)-1\n",
    "    \"\"\"\n",
    "    def __init__(self):\n",
    "        super().__init__()\n",
    "        \n",
    "    def forward(self, x):\n",
    "        \"\"\"\n",
    "        Parameters: \n",
    "                x: Input tensor\n",
    "\n",
    "        Returns: \n",
    "                y: Output\n",
    "        \"\"\"\n",
    "        sigma=sigmoid()\n",
    "        y=2*sigma(2*x) - 1\n",
    "        return y"
   ]
  },
  {
   "cell_type": "code",
   "execution_count": 125,
   "metadata": {},
   "outputs": [
    {
     "name": "stdout",
     "output_type": "stream",
     "text": [
      "Tanh activation function\n"
     ]
    },
    {
     "data": {
      "text/plain": [
       "[<matplotlib.lines.Line2D at 0x7f0cd9b08e50>]"
      ]
     },
     "execution_count": 125,
     "metadata": {},
     "output_type": "execute_result"
    },
    {
     "data": {
      "image/png": "[encoded data removed]",
      "text/plain": [
       "<Figure size 432x288 with 1 Axes>"
      ]
     },
     "metadata": {
      "needs_background": "light"
     },
     "output_type": "display_data"
    }
   ],
   "source": [
    "print(\"Tanh activation function\")\n",
    "x=torch.sort(torch.randn(10000)).values\n",
    "activation=tanh()\n",
    "y=activation(x)\n",
    "plt.plot(x.numpy(),y.numpy())"
   ]
  },
  {
   "cell_type": "code",
   "execution_count": 126,
   "metadata": {},
   "outputs": [],
   "source": [
    "class swish(nn.Module):\n",
    "    \"\"\" \n",
    "            Swish activation function\n",
    "         \n",
    "            Range: (≈-0.278,∞)\n",
    "                \n",
    "            Interesting note: It is bounded below and unbounded above, so similar to ReLU\n",
    "      \"\"\"\n",
    "    def __init__(self):\n",
    "        super().__init__()\n",
    "        \n",
    "    def forward(self, x):\n",
    "        \"\"\"\n",
    "            Parameters: \n",
    "                x: Input tensor\n",
    "\n",
    "            Returns: \n",
    "                y: Output tensor given by f(x)= x * sigmoid(x)\n",
    "        \"\"\"\n",
    "        sigma=sigmoid()\n",
    "        y=x*sigma(x)\n",
    "        return y"
   ]
  },
  {
   "cell_type": "code",
   "execution_count": 127,
   "metadata": {},
   "outputs": [
    {
     "name": "stdout",
     "output_type": "stream",
     "text": [
      "Swish activation function\n"
     ]
    },
    {
     "data": {
      "text/plain": [
       "[<matplotlib.lines.Line2D at 0x7f0cd9dc6450>]"
      ]
     },
     "execution_count": 127,
     "metadata": {},
     "output_type": "execute_result"
    },
    {
     "data": {
      "image/png": "[encoded data removed]",
      "text/plain": [
       "<Figure size 432x288 with 1 Axes>"
      ]
     },
     "metadata": {
      "needs_background": "light"
     },
     "output_type": "display_data"
    }
   ],
   "source": [
    "print(\"Swish activation function\")\n",
    "x=torch.sort(torch.randn(10000)).values\n",
    "activation=swish()\n",
    "y=activation(x)\n",
    "plt.plot(x.numpy(),y.numpy())"
   ]
  },
  {
   "cell_type": "code",
   "execution_count": 128,
   "metadata": {},
   "outputs": [],
   "source": [
    "class mish(nn.Module):\n",
    "    \"\"\" \n",
    "            Mish activation function\n",
    "         \n",
    "            Range: (≈-0.31,∞)\n",
    "                \n",
    "            Interesting note: It is bounded below and unbounded above, so similar to ReLU\n",
    "      \"\"\"\n",
    "    def __init__(self):\n",
    "        super().__init__()\n",
    "        \n",
    "    def forward(self, x):\n",
    "        \"\"\"\n",
    "            Parameters: \n",
    "                x: Input tensor\n",
    "\n",
    "            Returns: \n",
    "                y: Output tensor given by f(x)= x * tanh(soft-plus(x))\n",
    "        \"\"\"\n",
    "        Tanh=tanh()\n",
    "        SoftPlus=soft_plus()\n",
    "        y=x*Tanh(SoftPlus(x))\n",
    "        return y"
   ]
  },
  {
   "cell_type": "code",
   "execution_count": 129,
   "metadata": {},
   "outputs": [
    {
     "name": "stdout",
     "output_type": "stream",
     "text": [
      "Mish activation function\n"
     ]
    },
    {
     "data": {
      "text/plain": [
       "[<matplotlib.lines.Line2D at 0x7f0cd9a4a590>]"
      ]
     },
     "execution_count": 129,
     "metadata": {},
     "output_type": "execute_result"
    },
    {
     "data": {
      "image/png": "[encoded data removed]",
      "text/plain": [
       "<Figure size 432x288 with 1 Axes>"
      ]
     },
     "metadata": {
      "needs_background": "light"
     },
     "output_type": "display_data"
    }
   ],
   "source": [
    "print(\"Mish activation function\")\n",
    "x=torch.sort(torch.randn(10000)).values\n",
    "activation=mish()\n",
    "y=activation(x)\n",
    "plt.plot(x.numpy(),y.numpy())"
   ]
  }
 ],
 "metadata": {
  "kernelspec": {
   "display_name": "Python 3",
   "language": "python",
   "name": "python3"
  },
  "language_info": {
   "codemirror_mode": {
    "name": "ipython",
    "version": 3
   },
   "file_extension": ".py",
   "mimetype": "text/x-python",
   "name": "python",
   "nbconvert_exporter": "python",
   "pygments_lexer": "ipython3",
   "version": "3.7.5"
  }
 },
 "nbformat": 4,
 "nbformat_minor": 2
}
