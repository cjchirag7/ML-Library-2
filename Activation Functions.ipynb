{
 "cells": [
  {
   "cell_type": "code",
   "execution_count": 1,
   "metadata": {},
   "outputs": [],
   "source": [
    "import numpy as np\n",
    "import pandas as pd\n",
    "from collections import OrderedDict\n",
    "import torch\n",
    "import torch.nn.functional as F\n",
    "from torch import nn\n",
    "from torch.nn.parameter import Parameter\n",
    "from torch.autograd import Variable\n",
    "%matplotlib inline\n",
    "import matplotlib.pyplot as plt"
   ]
  },
  {
   "cell_type": "code",
   "execution_count": 2,
   "metadata": {},
   "outputs": [],
   "source": [
    "# Pre-processing of dataset\n",
    "df=pd.read_csv('digit-recognizer/train.csv')\n",
    "df=df.sample(frac=1)\n",
    "val_data = df[:4200]      # 10% of dataset\n",
    "train_data = df[4200:]    # 90% of dataset\n",
    "train_target = torch.tensor(train_data['label'].values.astype(np.float32))\n",
    "train = torch.tensor(train_data.drop('label', axis = 1).values.astype(np.float32)) \n",
    "val_target = torch.tensor(val_data['label'].values.astype(np.float32))\n",
    "val = torch.tensor(val_data.drop('label', axis = 1).values.astype(np.float32)) \n",
    "train=train.view(-1,1,28,28)/255\n",
    "val=val.view(-1,1,28,28)/255\n",
    "train_tensor = torch.utils.data.TensorDataset(train, train_target) \n",
    "train_loader = torch.utils.data.DataLoader(dataset = train_tensor, batch_size = 1024, shuffle = True)\n",
    "val_tensor = torch.utils.data.TensorDataset(val, val_target) \n",
    "val_loader = torch.utils.data.DataLoader(dataset = val_tensor, batch_size = 1024, shuffle = True)\n",
    "\n",
    "data_loaders = {\"train\": train_loader, \"val\": val_loader}"
   ]
  },
  {
   "cell_type": "code",
   "execution_count": 3,
   "metadata": {},
   "outputs": [],
   "source": [
    "class linear(nn.Module):\n",
    "    \"\"\" \n",
    "        Linear activation function\n",
    "        \n",
    "        Range: (-∞,∞)\n",
    "    \"\"\"\n",
    "    def __init__(self,input_features,slope=None):\n",
    "        \"\"\"\n",
    "        Parameters:\n",
    "                    input_features - input features\n",
    "                    slope - trainable parameter\n",
    "        \"\"\"\n",
    "        super(linear,self).__init__()\n",
    "        self.input_features=input_features\n",
    "        if slope==None:\n",
    "            self.slope=Parameter(torch.tensor(1.0))\n",
    "        else:\n",
    "            self.slope=Parameter(torch.tensor(slope))        \n",
    "        self.slope.requiresGrad = True \n",
    "        \n",
    "    def forward(self, x):\n",
    "        \"\"\"\n",
    "        Parameters: \n",
    "            x: Input tensor\n",
    "\n",
    "        Returns: \n",
    "            y: Output tensor given by f(x)= slope.x\n",
    "        \"\"\"\n",
    "        y = x*self.slope\n",
    "        return y"
   ]
  },
  {
   "cell_type": "code",
   "execution_count": 4,
   "metadata": {},
   "outputs": [
    {
     "name": "stdout",
     "output_type": "stream",
     "text": [
      "Linear activation function with slope 1.00\n"
     ]
    },
    {
     "data": {
      "text/plain": [
       "[<matplotlib.lines.Line2D at 0x7fc05fdcd990>]"
      ]
     },
     "execution_count": 4,
     "metadata": {},
     "output_type": "execute_result"
    },
    {
     "data": {
      "image/png": "[encoded data removed]",
      "text/plain": [
       "<Figure size 432x288 with 1 Axes>"
      ]
     },
     "metadata": {
      "needs_background": "light"
     },
     "output_type": "display_data"
    }
   ],
   "source": [
    "print(\"Linear activation function with slope 1.00\")\n",
    "x=torch.sort(torch.randn(100)).values\n",
    "activation=linear(100)\n",
    "y=activation(x)\n",
    "plt.plot(x.numpy(),y.detach().numpy())"
   ]
  },
  {
   "cell_type": "code",
   "execution_count": 5,
   "metadata": {},
   "outputs": [],
   "source": [
    "class sigmoid(nn.Module):\n",
    "    \"\"\" \n",
    "            Sigmoid activation function\n",
    "\n",
    "            Range: (0,1)\n",
    "            \n",
    "            Drawbacks:\n",
    "            1. Sigmoids saturate and kill gradients\n",
    "            2. Sigmoid outputs are not zero-centered.\n",
    "    \"\"\"\n",
    "    def __init__(self):\n",
    "        super().__init__()\n",
    "        \n",
    "    def forward(self, x):\n",
    "        \"\"\"\n",
    "        Parameters: \n",
    "                x: Input tensor\n",
    "\n",
    "        Returns: \n",
    "                y: Output tensor given by f(x) = 1/(1+exp(-x))\n",
    "        \"\"\"\n",
    "        y=1/(1+torch.exp((-1)*x))\n",
    "        return y"
   ]
  },
  {
   "cell_type": "code",
   "execution_count": 6,
   "metadata": {},
   "outputs": [
    {
     "name": "stdout",
     "output_type": "stream",
     "text": [
      "Sigmoid activation function\n"
     ]
    },
    {
     "data": {
      "text/plain": [
       "[<matplotlib.lines.Line2D at 0x7fc05fde1610>]"
      ]
     },
     "execution_count": 6,
     "metadata": {},
     "output_type": "execute_result"
    },
    {
     "data": {
      "image/png": "[encoded data removed]",
      "text/plain": [
       "<Figure size 432x288 with 1 Axes>"
      ]
     },
     "metadata": {
      "needs_background": "light"
     },
     "output_type": "display_data"
    }
   ],
   "source": [
    "print(\"Sigmoid activation function\")\n",
    "x=torch.sort(torch.randn(10000)).values\n",
    "activation=sigmoid()\n",
    "y=activation(x)\n",
    "plt.plot(x.numpy(),y.numpy())"
   ]
  },
  {
   "cell_type": "code",
   "execution_count": 7,
   "metadata": {},
   "outputs": [],
   "source": [
    "class relu(nn.Module):\n",
    "    \"\"\" \n",
    "            ReLU activation function\n",
    "\n",
    "            Range: (0,∞)\n",
    "    \"\"\"\n",
    "    def __init__(self):\n",
    "        super().__init__()\n",
    "        \n",
    "    def forward(self, x):\n",
    "        \"\"\"\n",
    "        Parameters: \n",
    "                x: Input tensor\n",
    "\n",
    "        Returns: \n",
    "                y: Output tensor given by f(x) = max(0,x)\n",
    "        \"\"\"\n",
    "        y=torch.clamp(x,0)\n",
    "        return y"
   ]
  },
  {
   "cell_type": "code",
   "execution_count": 8,
   "metadata": {},
   "outputs": [
    {
     "name": "stdout",
     "output_type": "stream",
     "text": [
      "ReLU activation function\n"
     ]
    },
    {
     "data": {
      "text/plain": [
       "[<matplotlib.lines.Line2D at 0x7fc05fd84690>]"
      ]
     },
     "execution_count": 8,
     "metadata": {},
     "output_type": "execute_result"
    },
    {
     "data": {
      "image/png": "[encoded data removed]",
      "text/plain": [
       "<Figure size 432x288 with 1 Axes>"
      ]
     },
     "metadata": {
      "needs_background": "light"
     },
     "output_type": "display_data"
    }
   ],
   "source": [
    "print(\"ReLU activation function\")\n",
    "x=torch.sort(torch.randn(10000)).values\n",
    "activation=relu()\n",
    "y=activation(x)\n",
    "plt.plot(x.numpy(),y.numpy())"
   ]
  },
  {
   "cell_type": "code",
   "execution_count": 9,
   "metadata": {},
   "outputs": [],
   "source": [
    "class leaky_relu(nn.Module):\n",
    "    \"\"\" \n",
    "           Leaky ReLU activation function\n",
    "\n",
    "           Range: (-∞,∞)\n",
    "            \n",
    "           Advantage:\n",
    "                Prevents the problem of dying neurons in ReLU due to fragile gradients\n",
    "    \"\"\"\n",
    "    def __init__(self,alpha=0.01):\n",
    "        \"\"\"\n",
    "        Parameters:\n",
    "            input_features - input features\n",
    "            alpha - constant parameter\n",
    "          \n",
    "        Returns: \n",
    "            y: Output tensor given by f(x)= slope.x\n",
    "        \"\"\"\n",
    "        super().__init__()\n",
    "        self.alpha=alpha\n",
    "        \n",
    "    def forward(self, x):\n",
    "        \"\"\"\n",
    "        Parameters: \n",
    "                x: Input tensor\n",
    "\n",
    "        Returns: \n",
    "                y: Output tensor\n",
    "        \"\"\"\n",
    "        positive_indices=torch.where(x>=0)\n",
    "        negative_indices=torch.where(x<0)\n",
    "        y[positive_indices]=x[positive_indices]\n",
    "        y[negative_indices]=x[negative_indices]*self.alpha\n",
    "        return y"
   ]
  },
  {
   "cell_type": "code",
   "execution_count": 10,
   "metadata": {},
   "outputs": [
    {
     "name": "stdout",
     "output_type": "stream",
     "text": [
      "Leaky ReLU activation function with alpha(negative-slope) 0.03\n"
     ]
    },
    {
     "data": {
      "text/plain": [
       "[<matplotlib.lines.Line2D at 0x7fc05fe2a550>]"
      ]
     },
     "execution_count": 10,
     "metadata": {},
     "output_type": "execute_result"
    },
    {
     "data": {
      "image/png": "[encoded data removed]",
      "text/plain": [
       "<Figure size 432x288 with 1 Axes>"
      ]
     },
     "metadata": {
      "needs_background": "light"
     },
     "output_type": "display_data"
    }
   ],
   "source": [
    "print(\"Leaky ReLU activation function with alpha(negative-slope) 0.03\")\n",
    "x=torch.sort(torch.randn(10000)).values\n",
    "activation=leaky_relu(alpha=0.03)\n",
    "y=activation(x)\n",
    "plt.plot(x.numpy(),y.numpy())"
   ]
  },
  {
   "cell_type": "code",
   "execution_count": 11,
   "metadata": {},
   "outputs": [],
   "source": [
    "class soft_plus(nn.Module):\n",
    "    \"\"\" \n",
    "            SoftPlus activation function\n",
    "         \n",
    "            Range: (0,∞)\n",
    "            \n",
    "            Interesting note: Derivative is equal to sigmoid function\n",
    "    \"\"\"\n",
    "    def __init__(self):\n",
    "        super().__init__()\n",
    "        \n",
    "    def forward(self, x):\n",
    "        \"\"\"\n",
    "        Parameters: \n",
    "                x: Input tensor\n",
    "\n",
    "        Returns: \n",
    "                y: Output tensor given by ln (1+exp(x))\n",
    "        \"\"\"\n",
    "        y=torch.log(1+torch.exp(x))\n",
    "        return y"
   ]
  },
  {
   "cell_type": "code",
   "execution_count": 12,
   "metadata": {},
   "outputs": [
    {
     "name": "stdout",
     "output_type": "stream",
     "text": [
      "SoftPlus activation function\n"
     ]
    },
    {
     "data": {
      "text/plain": [
       "[<matplotlib.lines.Line2D at 0x7fc05fd1f210>]"
      ]
     },
     "execution_count": 12,
     "metadata": {},
     "output_type": "execute_result"
    },
    {
     "data": {
      "image/png": "[encoded data removed]",
      "text/plain": [
       "<Figure size 432x288 with 1 Axes>"
      ]
     },
     "metadata": {
      "needs_background": "light"
     },
     "output_type": "display_data"
    }
   ],
   "source": [
    "print(\"SoftPlus activation function\")\n",
    "x=torch.sort(torch.randn(10000)).values\n",
    "activation=soft_plus()\n",
    "y=activation(x)\n",
    "plt.plot(x.numpy(),y.numpy())"
   ]
  },
  {
   "cell_type": "code",
   "execution_count": 13,
   "metadata": {},
   "outputs": [],
   "source": [
    "class tanh(nn.Module):\n",
    "    \"\"\" \n",
    "            Tanh activation function\n",
    "         \n",
    "            Range: (-1,1)\n",
    "            \n",
    "            Interesting note: It can be scaled to sigmoid as tanh(x)=2sigmoid(2x)-1\n",
    "    \"\"\"\n",
    "    def __init__(self):\n",
    "        super().__init__()\n",
    "        \n",
    "    def forward(self, x):\n",
    "        \"\"\"\n",
    "        Parameters: \n",
    "                x: Input tensor\n",
    "\n",
    "        Returns: \n",
    "                y: Output\n",
    "        \"\"\"\n",
    "        sigma=sigmoid()\n",
    "        y=2*sigma(2*x) - 1\n",
    "        return y"
   ]
  },
  {
   "cell_type": "code",
   "execution_count": 14,
   "metadata": {},
   "outputs": [
    {
     "name": "stdout",
     "output_type": "stream",
     "text": [
      "Tanh activation function\n"
     ]
    },
    {
     "data": {
      "text/plain": [
       "[<matplotlib.lines.Line2D at 0x7fc05ff2fc50>]"
      ]
     },
     "execution_count": 14,
     "metadata": {},
     "output_type": "execute_result"
    },
    {
     "data": {
      "image/png": "[encoded data removed]",
      "text/plain": [
       "<Figure size 432x288 with 1 Axes>"
      ]
     },
     "metadata": {
      "needs_background": "light"
     },
     "output_type": "display_data"
    }
   ],
   "source": [
    "print(\"Tanh activation function\")\n",
    "x=torch.sort(torch.randn(10000)).values\n",
    "activation=tanh()\n",
    "y=activation(x)\n",
    "plt.plot(x.numpy(),y.numpy())"
   ]
  },
  {
   "cell_type": "code",
   "execution_count": 15,
   "metadata": {},
   "outputs": [],
   "source": [
    "class swish(nn.Module):\n",
    "    \"\"\" \n",
    "            Swish activation function\n",
    "         \n",
    "            Range: (≈-0.278,∞)\n",
    "                \n",
    "            Interesting note: It is bounded below and unbounded above, so similar to ReLU\n",
    "      \"\"\"\n",
    "    def __init__(self):\n",
    "        super().__init__()\n",
    "        \n",
    "    def forward(self, x):\n",
    "        \"\"\"\n",
    "            Parameters: \n",
    "                x: Input tensor\n",
    "\n",
    "            Returns: \n",
    "                y: Output tensor given by f(x)= x * sigmoid(x)\n",
    "        \"\"\"\n",
    "        sigma=sigmoid()\n",
    "        y=x*sigma(x)\n",
    "        return y"
   ]
  },
  {
   "cell_type": "code",
   "execution_count": 16,
   "metadata": {},
   "outputs": [
    {
     "name": "stdout",
     "output_type": "stream",
     "text": [
      "Swish activation function\n"
     ]
    },
    {
     "data": {
      "text/plain": [
       "[<matplotlib.lines.Line2D at 0x7fc05fc54fd0>]"
      ]
     },
     "execution_count": 16,
     "metadata": {},
     "output_type": "execute_result"
    },
    {
     "data": {
      "image/png": "[encoded data removed]",
      "text/plain": [
       "<Figure size 432x288 with 1 Axes>"
      ]
     },
     "metadata": {
      "needs_background": "light"
     },
     "output_type": "display_data"
    }
   ],
   "source": [
    "print(\"Swish activation function\")\n",
    "x=torch.sort(torch.randn(10000)).values\n",
    "activation=swish()\n",
    "y=activation(x)\n",
    "plt.plot(x.numpy(),y.numpy())"
   ]
  },
  {
   "cell_type": "code",
   "execution_count": 17,
   "metadata": {},
   "outputs": [],
   "source": [
    "class mish(nn.Module):\n",
    "    \"\"\" \n",
    "            Mish activation function\n",
    "         \n",
    "            Range: (≈-0.31,∞)\n",
    "                \n",
    "            Interesting note: It is bounded below and unbounded above, so similar to ReLU\n",
    "      \"\"\"\n",
    "    def __init__(self):\n",
    "        super().__init__()\n",
    "        \n",
    "    def forward(self, x):\n",
    "        \"\"\"\n",
    "            Parameters: \n",
    "                x: Input tensor\n",
    "\n",
    "            Returns: \n",
    "                y: Output tensor given by f(x)= x * tanh(soft-plus(x))\n",
    "        \"\"\"\n",
    "        Tanh=tanh()\n",
    "        SoftPlus=soft_plus()\n",
    "        y=x*Tanh(SoftPlus(x))\n",
    "        return y"
   ]
  },
  {
   "cell_type": "code",
   "execution_count": 18,
   "metadata": {},
   "outputs": [
    {
     "name": "stdout",
     "output_type": "stream",
     "text": [
      "Mish activation function\n"
     ]
    },
    {
     "data": {
      "text/plain": [
       "[<matplotlib.lines.Line2D at 0x7fc05efbbb10>]"
      ]
     },
     "execution_count": 18,
     "metadata": {},
     "output_type": "execute_result"
    },
    {
     "data": {
      "image/png": "[encoded data removed]",
      "text/plain": [
       "<Figure size 432x288 with 1 Axes>"
      ]
     },
     "metadata": {
      "needs_background": "light"
     },
     "output_type": "display_data"
    }
   ],
   "source": [
    "print(\"Mish activation function\")\n",
    "x=torch.sort(torch.randn(10000)).values\n",
    "activation=mish()\n",
    "y=activation(x)\n",
    "plt.plot(x.numpy(),y.numpy())"
   ]
  },
  {
   "cell_type": "code",
   "execution_count": 19,
   "metadata": {},
   "outputs": [],
   "source": [
    "def train_model(model,data_loaders ):\n",
    "    '''\n",
    "    Function trains the model and prints out the training log.\n",
    "    INPUT:\n",
    "        model - initialized PyTorch model ready for training\n",
    "        train_loader - PyTorch dataloader for training data\n",
    "        val_loader - PyTorch dataloader for evaluation on cross-validation data\n",
    "    '''\n",
    "    \n",
    "    loss_fn = nn.NLLLoss()\n",
    "    learning_rate = 1e-6\n",
    "    num_epochs = 5\n",
    "    optimizer = torch.optim.Adam(model.parameters(), lr=learning_rate)\n",
    "\n",
    "    for e in range(num_epochs):\n",
    "        print('Epoch {}/{}'.format(e, num_epochs - 1))\n",
    "        print('-' * 10)\n",
    "        for phase in ['train', 'val']:\n",
    "            if phase == 'train':\n",
    "                model.train(True)  # Set model to training mode\n",
    "            else:\n",
    "                model.train(False)  # Set model to evaluate mode\n",
    "            \n",
    "            running_loss = 0\n",
    "            for images, labels in data_loaders[phase]:\n",
    "                labels = labels.to(device='cpu', dtype=torch.int64)\n",
    "                log_probs = model(images)\n",
    "                loss = loss_fn(log_probs, labels)\n",
    "                if phase=='train':    \n",
    "                    optimizer.zero_grad()\n",
    "                    loss.backward()\n",
    "                    optimizer.step()\n",
    "                running_loss += loss.item()\n",
    "                if phase=='train':\n",
    "                    print(\"Training loss: \"+str(running_loss))\n",
    "                else:\n",
    "                    print(\"Validation loss: \"+str(running_loss))"
   ]
  },
  {
   "cell_type": "code",
   "execution_count": 20,
   "metadata": {},
   "outputs": [],
   "source": [
    "class CNNClassifier(nn.Module):\n",
    "    '''\n",
    "    A classifier based on CNN architecture\n",
    "    '''\n",
    "    def __init__(self,activation):\n",
    "        super().__init__()\n",
    "        self.block1 = nn.Sequential(\n",
    "            nn.Conv2d(1, 16, kernel_size=5, padding=2),\n",
    "            activation,\n",
    "            nn.MaxPool2d(2))\n",
    " \n",
    "        self.block2 = nn.Sequential(\n",
    "            nn.Conv2d(16, 32, kernel_size=5, padding=2),\n",
    "            activation,\n",
    "            nn.MaxPool2d(2))\n",
    "    \n",
    "        self.fc = nn.Linear(7*7*32, 10)\n",
    " \n",
    "    def forward(self, x):\n",
    "        \n",
    "        out = self.block1(x)\n",
    "\n",
    "        out = self.block2(out)\n",
    "        \n",
    "        # Flatten the output of block2\n",
    "        out = out.view(out.size(0), -1)\n",
    "        \n",
    "        out = self.fc(out)\n",
    "        \n",
    "        return out"
   ]
  },
  {
   "cell_type": "code",
   "execution_count": 21,
   "metadata": {},
   "outputs": [
    {
     "name": "stdout",
     "output_type": "stream",
     "text": [
      "Epoch 0/4\n",
      "----------\n",
      "Training loss: -0.009459600783884525\n",
      "Training loss: -0.020990476943552494\n",
      "Training loss: -0.032949487678706646\n",
      "Training loss: -0.045388415455818176\n",
      "Training loss: -0.05713306460529566\n",
      "Training loss: -0.06927186902612448\n",
      "Training loss: -0.07978237979114056\n",
      "Training loss: -0.09248555079102516\n",
      "Training loss: -0.10723007936030626\n",
      "Training loss: -0.12096972204744816\n",
      "Training loss: -0.1339677246287465\n",
      "Training loss: -0.1486990638077259\n",
      "Training loss: -0.16218342073261738\n",
      "Training loss: -0.17742332071065903\n",
      "Training loss: -0.18944960180670023\n",
      "Training loss: -0.20091585256159306\n",
      "Training loss: -0.21422024350613356\n",
      "Training loss: -0.2260683411732316\n",
      "Training loss: -0.24136090837419033\n",
      "Training loss: -0.25617635529488325\n",
      "Training loss: -0.27123642433434725\n",
      "Training loss: -0.28514855168759823\n",
      "Training loss: -0.30033588595688343\n",
      "Training loss: -0.3153181541711092\n",
      "Training loss: -0.33038349356502295\n",
      "Training loss: -0.3447676347568631\n",
      "Training loss: -0.3601933438330889\n",
      "Training loss: -0.37541748117655516\n",
      "Training loss: -0.39235605765134096\n",
      "Training loss: -0.4083763053640723\n",
      "Training loss: -0.4236862435936928\n",
      "Training loss: -0.4372325036674738\n",
      "Training loss: -0.45290863141417503\n",
      "Training loss: -0.46947611682116985\n",
      "Training loss: -0.48414704110473394\n",
      "Training loss: -0.5004017548635602\n",
      "Training loss: -0.5169853242114186\n",
      "Validation loss: -0.01558778528124094\n",
      "Validation loss: -0.03136345651000738\n",
      "Validation loss: -0.045535555109381676\n",
      "Validation loss: -0.0613765362650156\n",
      "Validation loss: -0.08379370532929897\n",
      "Epoch 1/4\n",
      "----------\n",
      "Training loss: -0.015354437753558159\n",
      "Training loss: -0.03310217708349228\n",
      "Training loss: -0.04987447150051594\n",
      "Training loss: -0.06716993264853954\n",
      "Training loss: -0.08396052196621895\n",
      "Training loss: -0.10069856978952885\n",
      "Training loss: -0.117032365873456\n",
      "Training loss: -0.1353768240660429\n",
      "Training loss: -0.15245825052261353\n",
      "Training loss: -0.17173136584460735\n",
      "Training loss: -0.18871617503464222\n",
      "Training loss: -0.205864068120718\n",
      "Training loss: -0.2225115615874529\n",
      "Training loss: -0.24063023552298546\n",
      "Training loss: -0.25811053067445755\n",
      "Training loss: -0.27704835683107376\n",
      "Training loss: -0.29636660777032375\n",
      "Training loss: -0.31268175318837166\n",
      "Training loss: -0.33149492740631104\n",
      "Training loss: -0.3520544469356537\n",
      "Training loss: -0.36810852959752083\n",
      "Training loss: -0.38535346649587154\n",
      "Training loss: -0.40383266285061836\n",
      "Training loss: -0.42475552298128605\n",
      "Training loss: -0.44469184428453445\n",
      "Training loss: -0.46329125203192234\n",
      "Training loss: -0.4839064087718725\n",
      "Training loss: -0.5014682859182358\n",
      "Training loss: -0.5210722982883453\n",
      "Training loss: -0.5416326522827148\n",
      "Training loss: -0.560266038402915\n",
      "Training loss: -0.5811046343296766\n",
      "Training loss: -0.6003216356039047\n",
      "Training loss: -0.6204207930713892\n",
      "Training loss: -0.6407396551221609\n",
      "Training loss: -0.6601662095636129\n",
      "Training loss: -0.6822642665356398\n",
      "Validation loss: -0.02087135799229145\n",
      "Validation loss: -0.04081657901406288\n",
      "Validation loss: -0.05998228304088116\n",
      "Validation loss: -0.07996251806616783\n",
      "Validation loss: -0.09960211627185345\n",
      "Epoch 2/4\n",
      "----------\n",
      "Training loss: -0.021160291507840157\n",
      "Training loss: -0.042143480852246284\n",
      "Training loss: -0.06197899021208286\n",
      "Training loss: -0.0822389293462038\n",
      "Training loss: -0.10183640196919441\n",
      "Training loss: -0.12413743138313293\n",
      "Training loss: -0.14500673860311508\n",
      "Training loss: -0.16818121820688248\n",
      "Training loss: -0.19013605453073978\n",
      "Training loss: -0.21225286275148392\n",
      "Training loss: -0.23545352183282375\n",
      "Training loss: -0.25785928033292294\n",
      "Training loss: -0.28255790658295155\n",
      "Training loss: -0.3056136183440685\n",
      "Training loss: -0.32675190083682537\n",
      "Training loss: -0.3489333614706993\n",
      "Training loss: -0.3720770440995693\n",
      "Training loss: -0.39320495538413525\n",
      "Training loss: -0.4154790136963129\n",
      "Training loss: -0.43861744180321693\n",
      "Training loss: -0.4629742354154587\n",
      "Training loss: -0.4846368934959173\n",
      "Training loss: -0.5098107755184174\n",
      "Training loss: -0.5321071967482567\n",
      "Training loss: -0.5558491889387369\n",
      "Training loss: -0.5794067997485399\n",
      "Training loss: -0.6029286235570908\n",
      "Training loss: -0.62582035548985\n",
      "Training loss: -0.6499621868133545\n",
      "Training loss: -0.6741133145987988\n",
      "Training loss: -0.6983431614935398\n",
      "Training loss: -0.7229360565543175\n",
      "Training loss: -0.7489875834435225\n",
      "Training loss: -0.7735627945512533\n",
      "Training loss: -0.7996783647686243\n",
      "Training loss: -0.8226721193641424\n",
      "Training loss: -0.8487121779471636\n",
      "Validation loss: -0.023863013833761215\n",
      "Validation loss: -0.0485107209533453\n",
      "Validation loss: -0.07312477007508278\n",
      "Validation loss: -0.09781049750745296\n",
      "Validation loss: -0.12374366447329521\n",
      "Epoch 3/4\n",
      "----------\n",
      "Training loss: -0.024419497698545456\n",
      "Training loss: -0.051345888525247574\n",
      "Training loss: -0.07771686837077141\n",
      "Training loss: -0.10344530828297138\n",
      "Training loss: -0.12959991581737995\n",
      "Training loss: -0.15494541078805923\n",
      "Training loss: -0.18098503351211548\n",
      "Training loss: -0.20727078057825565\n",
      "Training loss: -0.23374163918197155\n",
      "Training loss: -0.26160142198204994\n",
      "Training loss: -0.28709228709340096\n",
      "Training loss: -0.3146299347281456\n",
      "Training loss: -0.3415986243635416\n",
      "Training loss: -0.36839322559535503\n",
      "Training loss: -0.39622281678020954\n",
      "Training loss: -0.42281302250921726\n",
      "Training loss: -0.44973434694111347\n",
      "Training loss: -0.4768578838557005\n",
      "Training loss: -0.5038353651762009\n",
      "Training loss: -0.5301666129380465\n",
      "Training loss: -0.5574782881885767\n",
      "Training loss: -0.5874817799776793\n",
      "Training loss: -0.6156509295105934\n",
      "Training loss: -0.6415445171296597\n",
      "Training loss: -0.6695046443492174\n",
      "Training loss: -0.6955688241869211\n",
      "Training loss: -0.7245080918073654\n",
      "Training loss: -0.7520317677408457\n",
      "Training loss: -0.7828342691063881\n",
      "Training loss: -0.8125391770154238\n",
      "Training loss: -0.8421299830079079\n",
      "Training loss: -0.8685842603445053\n",
      "Training loss: -0.897427074611187\n",
      "Training loss: -0.9262983910739422\n",
      "Training loss: -0.9555816035717726\n",
      "Training loss: -0.9874380063265562\n",
      "Training loss: -1.0169590506702662\n",
      "Validation loss: -0.028006313368678093\n",
      "Validation loss: -0.05749204941093922\n",
      "Validation loss: -0.08504843525588512\n",
      "Validation loss: -0.11643034778535366\n",
      "Validation loss: -0.14352992922067642\n",
      "Epoch 4/4\n",
      "----------\n",
      "Training loss: -0.029465006664395332\n",
      "Training loss: -0.059401676058769226\n",
      "Training loss: -0.09012782759964466\n",
      "Training loss: -0.11938131228089333\n",
      "Training loss: -0.1505910251289606\n",
      "Training loss: -0.18056926131248474\n",
      "Training loss: -0.2114556860178709\n",
      "Training loss: -0.2428970281034708\n",
      "Training loss: -0.27495972625911236\n",
      "Training loss: -0.30602032877504826\n",
      "Training loss: -0.3361703958362341\n",
      "Training loss: -0.3662742879241705\n",
      "Training loss: -0.3981637116521597\n",
      "Training loss: -0.4298091735690832\n",
      "Training loss: -0.46051703952252865\n",
      "Training loss: -0.491845091804862\n",
      "Training loss: -0.5240299720317125\n",
      "Training loss: -0.5565017256885767\n",
      "Training loss: -0.5897876974195242\n",
      "Training loss: -0.6217220928519964\n",
      "Training loss: -0.652459753677249\n",
      "Training loss: -0.6853202413767576\n",
      "Training loss: -0.7165051326155663\n",
      "Training loss: -0.7507542632520199\n",
      "Training loss: -0.7818112298846245\n",
      "Training loss: -0.8162842206656933\n",
      "Training loss: -0.8508606404066086\n",
      "Training loss: -0.8837010338902473\n",
      "Training loss: -0.9178334511816502\n",
      "Training loss: -0.951139111071825\n",
      "Training loss: -0.9834371879696846\n",
      "Training loss: -1.0170067250728607\n",
      "Training loss: -1.049552746117115\n",
      "Training loss: -1.0824897177517414\n",
      "Training loss: -1.1184493005275726\n",
      "Training loss: -1.1512139588594437\n",
      "Training loss: -1.1880901418626308\n",
      "Validation loss: -0.034255679696798325\n",
      "Validation loss: -0.06543106772005558\n",
      "Validation loss: -0.09852436743676662\n",
      "Validation loss: -0.13455905579030514\n",
      "Validation loss: -0.1705793384462595\n"
     ]
    }
   ],
   "source": [
    "activation_function = relu()\n",
    "model = CNNClassifier(activation_function)\n",
    "train_model(model,data_loaders)"
   ]
  },
  {
   "cell_type": "code",
   "execution_count": 22,
   "metadata": {},
   "outputs": [
    {
     "ename": "ValueError",
     "evalue": "could not determine the shape of object type 'DataFrame'",
     "output_type": "error",
     "traceback": [
      "\u001b[0;31m---------------------------------------------------------------------------\u001b[0m",
      "\u001b[0;31mValueError\u001b[0m                                Traceback (most recent call last)",
      "\u001b[0;32m<ipython-input-22-cb1b90282ebd>\u001b[0m in \u001b[0;36m<module>\u001b[0;34m\u001b[0m\n\u001b[1;32m      1\u001b[0m \u001b[0;31m# Pre-processing of dataset\u001b[0m\u001b[0;34m\u001b[0m\u001b[0;34m\u001b[0m\u001b[0;34m\u001b[0m\u001b[0m\n\u001b[1;32m      2\u001b[0m \u001b[0mdf\u001b[0m\u001b[0;34m=\u001b[0m\u001b[0mpd\u001b[0m\u001b[0;34m.\u001b[0m\u001b[0mread_csv\u001b[0m\u001b[0;34m(\u001b[0m\u001b[0;34m'digit-recognizer/test.csv'\u001b[0m\u001b[0;34m)\u001b[0m\u001b[0;34m\u001b[0m\u001b[0;34m\u001b[0m\u001b[0m\n\u001b[0;32m----> 3\u001b[0;31m \u001b[0mtest_data\u001b[0m \u001b[0;34m=\u001b[0m \u001b[0mtorch\u001b[0m\u001b[0;34m.\u001b[0m\u001b[0mtensor\u001b[0m\u001b[0;34m(\u001b[0m\u001b[0mdf\u001b[0m\u001b[0;34m)\u001b[0m\u001b[0;34m.\u001b[0m\u001b[0mvalues\u001b[0m\u001b[0;34m.\u001b[0m\u001b[0mastype\u001b[0m\u001b[0;34m(\u001b[0m\u001b[0mnp\u001b[0m\u001b[0;34m.\u001b[0m\u001b[0mfloat32\u001b[0m\u001b[0;34m)\u001b[0m\u001b[0;34m\u001b[0m\u001b[0;34m\u001b[0m\u001b[0m\n\u001b[0m\u001b[1;32m      4\u001b[0m \u001b[0mtest_data\u001b[0m\u001b[0;34m=\u001b[0m\u001b[0mtest_data\u001b[0m\u001b[0;34m.\u001b[0m\u001b[0mview\u001b[0m\u001b[0;34m(\u001b[0m\u001b[0;34m-\u001b[0m\u001b[0;36m1\u001b[0m\u001b[0;34m,\u001b[0m\u001b[0;36m1\u001b[0m\u001b[0;34m,\u001b[0m\u001b[0;36m28\u001b[0m\u001b[0;34m,\u001b[0m\u001b[0;36m28\u001b[0m\u001b[0;34m)\u001b[0m\u001b[0;34m/\u001b[0m\u001b[0;36m255\u001b[0m\u001b[0;34m\u001b[0m\u001b[0;34m\u001b[0m\u001b[0m\n\u001b[1;32m      5\u001b[0m \u001b[0mtest_tensor\u001b[0m \u001b[0;34m=\u001b[0m \u001b[0mtorch\u001b[0m\u001b[0;34m.\u001b[0m\u001b[0mutils\u001b[0m\u001b[0;34m.\u001b[0m\u001b[0mdata\u001b[0m\u001b[0;34m.\u001b[0m\u001b[0mTensorDataset\u001b[0m\u001b[0;34m(\u001b[0m\u001b[0mtrain\u001b[0m\u001b[0;34m,\u001b[0m \u001b[0mtrain_target\u001b[0m\u001b[0;34m)\u001b[0m\u001b[0;34m\u001b[0m\u001b[0;34m\u001b[0m\u001b[0m\n",
      "\u001b[0;31mValueError\u001b[0m: could not determine the shape of object type 'DataFrame'"
     ]
    }
   ],
   "source": [
    "# Pre-processing of dataset\n",
    "df=pd.read_csv('digit-recognizer/test.csv')\n",
    "test_data = torch.tensor(df).values.astype(np.float32) \n",
    "test_data=test_data.view(-1,1,28,28)/255\n",
    "test_tensor = torch.utils.data.TensorDataset(train, train_target) \n",
    "test_loader = torch.utils.data.DataLoader(dataset = train_tensor, batch_size = 1024, shuffle = False)\n"
   ]
  }
 ],
 "metadata": {
  "kernelspec": {
   "display_name": "Python 3",
   "language": "python",
   "name": "python3"
  },
  "language_info": {
   "codemirror_mode": {
    "name": "ipython",
    "version": 3
   },
   "file_extension": ".py",
   "mimetype": "text/x-python",
   "name": "python",
   "nbconvert_exporter": "python",
   "pygments_lexer": "ipython3",
   "version": "3.7.5"
  }
 },
 "nbformat": 4,
 "nbformat_minor": 2
}
